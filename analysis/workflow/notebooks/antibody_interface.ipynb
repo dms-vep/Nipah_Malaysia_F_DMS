{
 "cells": [
  {
   "cell_type": "markdown",
   "id": "33ae50b4",
   "metadata": {},
   "source": [
    "### Antibody interface\n",
    "Reads in antibody escape, residue distance, and interface data, and generates plots"
   ]
  },
  {
   "cell_type": "code",
   "execution_count": null,
   "id": "52eb8ff8",
   "metadata": {},
   "outputs": [],
   "source": [
    "import pandas as pd\n",
    "import altair as alt\n",
    "import httpimport\n",
    "\n",
    "_ = alt.data_transformers.disable_max_rows()"
   ]
  },
  {
   "cell_type": "code",
   "execution_count": null,
   "id": "4b929a85",
   "metadata": {},
   "outputs": [],
   "source": [
    "# Import custom altair theme from remote github using httpimport module\n",
    "def import_theme_new():\n",
    "    with httpimport.github_repo(\"bblarsen-sci\", \"altair_themes\", \"main\"):\n",
    "        import main_theme\n",
    "\n",
    "        @alt.theme.register(\"custom_theme\", enable=True)\n",
    "        def custom_theme():\n",
    "            return main_theme.main_theme()\n",
    "\n",
    "\n",
    "import_theme_new()"
   ]
  },
  {
   "cell_type": "code",
   "execution_count": null,
   "id": "2ac9e04e",
   "metadata": {},
   "outputs": [],
   "source": [
    "entry_df = pd.read_csv(snakemake.input.entry_df)\n",
    "escape_df_mean = pd.read_csv(snakemake.input.escape_df_mean)\n",
    "escape_df = pd.read_csv(snakemake.input.escape_df)  \n",
    "distances_df = pd.read_csv(snakemake.input.distances_df)\n",
    "interface_df = pd.read_csv(snakemake.input.interface_df)\n",
    "\n",
    "antibody_order = snakemake.params.antibody_order\n",
    "min_dist_cutoff = snakemake.params.min_distance"
   ]
  },
  {
   "cell_type": "code",
   "execution_count": null,
   "id": "2a6fbe74",
   "metadata": {},
   "outputs": [],
   "source": [
    "# merge escape dataframe to the entry dataframe\n",
    "merged_tmp = pd.merge(\n",
    "    entry_df,\n",
    "    escape_df_mean,\n",
    "    on=['site','wildtype'],\n",
    "    how='left'\n",
    ")\n",
    "\n",
    "# merge the distances to the merged entry and escape dataframe\n",
    "merged_all = pd.merge(\n",
    "    merged_tmp,\n",
    "    distances_df,\n",
    "    on=['site','antibody'],\n",
    "    how='left'\n",
    ").rename(columns={\n",
    "    'wildtype_x': 'wildtype'}).drop(columns=['wildtype_y'])"
   ]
  },
  {
   "cell_type": "code",
   "execution_count": null,
   "id": "9e63246d",
   "metadata": {},
   "outputs": [],
   "source": [
    "# plot correlation between escape and distance to closest antibody residue and color by cell entry\n",
    "escape_vs_dist_chart = (\n",
    "    alt.Chart(merged_all.query(\"min_distance < 15 and mean_escape > 0\"))\n",
    "    .mark_circle(size=60, stroke=\"black\", strokeWidth=0.75, opacity=1)\n",
    "    .encode(\n",
    "        x=alt.X(\n",
    "            \"min_distance\",\n",
    "            title=[\"Distance to closest\", \"antibody residue (Å)\"],\n",
    "            axis=alt.Axis(grid=True),\n",
    "        ),\n",
    "        y=alt.Y(\"mean_escape\", title=\"Escape\", axis=alt.Axis(grid=True)),\n",
    "        column=alt.Column(\"antibody:N\", title=None, sort=antibody_order),\n",
    "    )\n",
    "    .properties(width=200, height=200)\n",
    ")\n",
    "\n",
    "escape_vs_dist_chart.display()"
   ]
  },
  {
   "cell_type": "code",
   "execution_count": null,
   "id": "48d1befc",
   "metadata": {},
   "outputs": [],
   "source": [
    "# save the chart\n",
    "escape_vs_dist_chart.save(snakemake.output.escape_vs_dist, ppi=300)\n",
    "escape_vs_dist_chart.save(snakemake.output.escape_vs_dist_svg)"
   ]
  },
  {
   "cell_type": "code",
   "execution_count": null,
   "id": "f587f4ac",
   "metadata": {},
   "outputs": [],
   "source": [
    "# now examine the effects of mutations that are directly in the antibody footprint\n",
    "\n",
    "# first get the unique antibodies in the escape data\n",
    "unique_antibodies_list = escape_df_mean[\"antibody\"].unique().tolist()\n",
    "print(f\"Unique antibodies in escape data: {unique_antibodies_list}\")\n",
    "\n",
    "# iterate through each antibody and get the sites that are within the min_dist_cutoff\n",
    "# and then get the effects of those sites from the entry dataframe\n",
    "# this will create a new dataframe with the effects of the close sites for each antibody\n",
    "# then merge this dataframe with the escape dataframe to get the escape effects for those sites\n",
    "empty = []\n",
    "for antibody in unique_antibodies_list:\n",
    "    tmp_df = distances_df.query(\n",
    "        f'antibody == \"{antibody}\" and min_distance < {min_dist_cutoff}'\n",
    "    )\n",
    "    close_sites = tmp_df[\"site\"].unique().tolist()\n",
    "    tmp_effect_df = entry_df[entry_df[\"site\"].isin(close_sites)].assign(\n",
    "        antibody=antibody\n",
    "    )\n",
    "    empty.append(tmp_effect_df)\n",
    "close_sites_effects_df = pd.concat(empty, ignore_index=True)\n",
    "\n",
    "# merge the close sites effects dataframe with the escape dataframe to get the escape effects for those sites\n",
    "display(close_sites_effects_df)\n",
    "merged_close_sites = pd.merge(\n",
    "    close_sites_effects_df,\n",
    "    escape_df_mean,\n",
    "    on=[\"site\", \"antibody\", \"wildtype\"],\n",
    "    how=\"left\",\n",
    ")\n",
    "display(merged_close_sites)\n"
   ]
  },
  {
   "cell_type": "code",
   "execution_count": null,
   "id": "81a73794",
   "metadata": {},
   "outputs": [],
   "source": [
    "# make a boxplot of the effects of the close sites for each antibody\n",
    "chart_boxplot = alt.Chart(merged_close_sites).mark_boxplot(extent=\"min-max\", opacity=1, color=\"#B8B0AC\").encode(\n",
    "    x=alt.X(\"antibody:N\", title=None, sort=antibody_order),\n",
    "    y=alt.Y(\"effect:Q\", title=\"cell entry in mAb footprint\"),\n",
    "    color=alt.Color(\"antibody:N\", legend=None, sort=antibody_order)\n",
    ").properties(\n",
    "    width=alt.Step(25), height=150\n",
    ")\n",
    "chart_boxplot.display()\n"
   ]
  },
  {
   "cell_type": "code",
   "execution_count": null,
   "id": "ab7dbb51",
   "metadata": {},
   "outputs": [],
   "source": [
    "# save the chart\n",
    "chart_boxplot.save(snakemake.output.interface_mean_entry, ppi=300)\n",
    "chart_boxplot.save(snakemake.output.interface_mean_entry_svg)"
   ]
  },
  {
   "cell_type": "code",
   "execution_count": null,
   "id": "aa6164df",
   "metadata": {},
   "outputs": [],
   "source": [
    "### Now compare buried surface area to mean escape and plot\n",
    "df_mean_escape = (\n",
    "    escape_df.groupby([\"antibody\", \"site\", \"wildtype\"])\n",
    "    .agg(mean_escape=(\"escape_mean\", \"mean\"), mean_entry=(\"effect\", \"mean\"))\n",
    "    .reset_index()\n",
    "    .round(2)\n",
    ")\n",
    "display(df_mean_escape.head(3))\n",
    "\n",
    "# Merge df_mean_escape with interface_df, filter, fill NaN values, and calculate r-values\n",
    "df_merged = pd.merge(interface_df, df_mean_escape, on=[\"antibody\", \"site\"], how=\"outer\")\n",
    "df_filter = df_merged.query(\n",
    "    \"mean_escape > 0\"\n",
    ").copy()  # to avoid setting with a copy warning\n",
    "df_filter[[\"BSA\"]] = df_filter[[\"BSA\"]].fillna(0.01)\n",
    "\n",
    "# combine heavy and light chain interface data by summing BSA and taking the first value of mean_escape, mean_entry, and hydrogen_bond\n",
    "combined_df = (\n",
    "    df_filter.groupby([\"antibody\", \"site\", \"wildtype\"])\n",
    "    .agg(\n",
    "        mean_escape=(\"mean_escape\", \"first\"),\n",
    "        mean_entry=(\"mean_entry\", \"first\"),\n",
    "        sum_BSA=(\"BSA\", \"sum\"),\n",
    "        hydrogen_bond=(\"hydrogen_bond\", \"first\"),\n",
    "    )\n",
    "    .reset_index()\n",
    ")\n",
    "display(combined_df.head(3))\n"
   ]
  },
  {
   "cell_type": "code",
   "execution_count": null,
   "id": "79f5e4e8",
   "metadata": {},
   "outputs": [],
   "source": [
    "# make scatter plots of BSA vs mean escape for each antibody\n",
    "\n",
    "empty_charts = []\n",
    "\n",
    "for antibody in unique_antibodies_list:\n",
    "    chart_mean_escape = (\n",
    "        alt.Chart(combined_df.query(\"antibody == @antibody\"))\n",
    "        .mark_point(size=125, filled=True, opacity=1, stroke=\"black\", strokeWidth=1)\n",
    "        .encode(\n",
    "            y=alt.Y(\n",
    "                \"mean_escape:Q\",  axis=alt.Axis(tickCount=2, labels=True)\n",
    "            ),\n",
    "            x=alt.X(\"sum_BSA\",  axis=alt.Axis(tickCount=2, labels=True)),\n",
    "            color=alt.Color(\"hydrogen_bond:N\", title=\"Bond type w/ antibody\"),\n",
    "            tooltip=[\"antibody\",\"site\"],\n",
    "        )\n",
    "        .properties(width=150, height=150)\n",
    "    )\n",
    "\n",
    "    empty_charts.append(chart_mean_escape.properties(title=antibody))\n",
    "\n",
    "chart_bsa_vs_escape = alt.hconcat(*empty_charts).resolve_scale(y=\"shared\", x=\"shared\")\n",
    "chart_bsa_vs_escape.display()"
   ]
  },
  {
   "cell_type": "code",
   "execution_count": null,
   "id": "0e211297",
   "metadata": {},
   "outputs": [],
   "source": [
    "chart_bsa_vs_escape.save(snakemake.output.interface_bsa_bonds, ppi=300)\n",
    "chart_bsa_vs_escape.save(snakemake.output.interface_bsa_bonds_svg)"
   ]
  }
 ],
 "metadata": {
  "kernelspec": {
   "display_name": "brendan",
   "language": "python",
   "name": "python3"
  },
  "language_info": {
   "codemirror_mode": {
    "name": "ipython",
    "version": 3
   },
   "file_extension": ".py",
   "mimetype": "text/x-python",
   "name": "python",
   "nbconvert_exporter": "python",
   "pygments_lexer": "ipython3",
   "version": "3.12.8"
  }
 },
 "nbformat": 4,
 "nbformat_minor": 5
}
