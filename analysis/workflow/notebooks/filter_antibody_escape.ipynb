{
 "cells": [
  {
   "cell_type": "markdown",
   "metadata": {},
   "source": [
    "### Filter antibody escape\n",
    "This notebook filters the antibody escape data based on parameters defined in the config file to only include high quality measurements."
   ]
  },
  {
   "cell_type": "code",
   "execution_count": null,
   "metadata": {},
   "outputs": [],
   "source": [
    "import pandas as pd"
   ]
  },
  {
   "cell_type": "code",
   "execution_count": null,
   "metadata": {},
   "outputs": [],
   "source": [
    "# Input files\n",
    "escape_df_path = snakemake.input.escape_df\n",
    "entry_df_path = snakemake.input.entry_df\n",
    "\n",
    "# Output files\n",
    "escape_effects_filtered_path = snakemake.output.escape_effects_filtered\n",
    "escape_effects_filtered_no_effect_cutoff_path = snakemake.output.escape_effects_filtered_no_effect_cutoff\n",
    "escape_effects_filtered_mean_path = snakemake.output.escape_effects_filtered_mean\n",
    "escape_effects_filtered_sum_path = snakemake.output.escape_effects_filtered_sum\n",
    "\n",
    "# Parameters\n",
    "TIMES_SEEN_AB = snakemake.params.times_seen_ab\n",
    "MIN_FUNC_EFFECT = snakemake.params.min_func_effect\n",
    "ESCAPE_STD_DEV = snakemake.params.escape_std_dev\n"
   ]
  },
  {
   "cell_type": "code",
   "execution_count": null,
   "metadata": {},
   "outputs": [],
   "source": [
    "# Read in data\n",
    "mab_escape_df = pd.read_csv(escape_df_path)\n",
    "entry_df = pd.read_csv(entry_df_path)\n",
    "\n",
    "# Merge on site, wildtype, and mutant\n",
    "merged_df = pd.merge(mab_escape_df, entry_df, how=\"left\", on=[\"site\", \"wildtype\", \"mutant\"], suffixes=(\"_ab\", \"_entry\"))\n",
    "\n",
    "# Filter data\n",
    "# 1. Seen in at least TIMES_SEEN_AB antibodies\n",
    "# 2. Effect on entry >= MIN_FUNC_EFFECT\n",
    "# 3. Escape standard deviation <= ESCAPE_STD_DEV\n",
    "# 4. Remove stop codons and deletions\n",
    "filtered_escape = merged_df[\n",
    "    (merged_df[\"times_seen_ab\"] >= TIMES_SEEN_AB) &\n",
    "    (merged_df[\"effect\"] >= MIN_FUNC_EFFECT) &\n",
    "    (merged_df[\"escape_std\"] <= ESCAPE_STD_DEV) &\n",
    "    (merged_df[\"mutant\"] != \"*\") &\n",
    "    (merged_df[\"mutant\"] != \"-\") \n",
    "]\n",
    "# Save filtered data\n",
    "filtered_escape.round(3).to_csv(escape_effects_filtered_path, index=False)\n",
    "\n",
    "# Filter data as above, but don't apply effect cutoff\n",
    "filtered_escape_no_effect_cutoff = merged_df[\n",
    "    (merged_df[\"times_seen_ab\"] >= TIMES_SEEN_AB) &\n",
    "    #(merged_df[\"effect\"] >= MIN_FUNC_EFFECT) &\n",
    "    (merged_df[\"escape_std\"] <= ESCAPE_STD_DEV) &\n",
    "    (merged_df[\"mutant\"] != \"*\") &\n",
    "    (merged_df[\"mutant\"] != \"-\") \n",
    "]\n",
    "# Save filtered data\n",
    "filtered_escape_no_effect_cutoff.round(3).to_csv(escape_effects_filtered_no_effect_cutoff_path, index=False)"
   ]
  },
  {
   "cell_type": "code",
   "execution_count": null,
   "metadata": {},
   "outputs": [],
   "source": [
    "# Calculate sum and mean escape per site\n",
    "mAb_filtered_sum = (\n",
    "    filtered_escape.groupby([\"site\"])\n",
    "    .agg({\n",
    "        \"escape_mean\": \"sum\",\n",
    "        \"wildtype\": \"first\"\n",
    "    })\n",
    "    .reset_index()\n",
    "    .round(3)\n",
    "    .rename(columns={\"escape_mean\": \"sum_escape\"})\n",
    ")\n",
    "\n",
    "\n",
    "mAb_filtered_mean = (\n",
    "    filtered_escape.groupby([\"site\"])\n",
    "    .agg({\"escape_mean\": \"mean\", \"wildtype\": \"first\"})\n",
    "    .reset_index()\n",
    "    .round(3)\n",
    "    .rename(columns={\"escape_mean\": \"mean_escape\"})\n",
    ")\n",
    "\n",
    "# Save sum and mean escape per site\n",
    "mAb_filtered_sum.to_csv(escape_effects_filtered_sum_path, index=False)\n",
    "mAb_filtered_mean.to_csv(escape_effects_filtered_mean_path, index=False)"
   ]
  }
 ],
 "metadata": {
  "language_info": {
   "name": "python"
  }
 },
 "nbformat": 4,
 "nbformat_minor": 2
}
