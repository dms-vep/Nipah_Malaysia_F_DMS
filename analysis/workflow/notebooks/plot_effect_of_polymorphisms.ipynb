{
 "cells": [
  {
   "cell_type": "markdown",
   "metadata": {},
   "source": [
    "### Plot effect of polymorphisms on entry and escape\n",
    "Read in csv that contains all variable sites calculated from find_variable_sites_from_alignments and plot how each of those mutations affects entry and escape."
   ]
  },
  {
   "cell_type": "code",
   "execution_count": null,
   "metadata": {},
   "outputs": [],
   "source": [
    "import pandas as pd\n",
    "import altair as alt\n",
    "import httpimport\n",
    "import numpy as np\n",
    "\n",
    "_ = alt.data_transformers.disable_max_rows()"
   ]
  },
  {
   "cell_type": "code",
   "execution_count": null,
   "metadata": {},
   "outputs": [],
   "source": [
    "# Import custom altair theme from remote github using httpimport module\n",
    "def import_theme_new():\n",
    "    with httpimport.github_repo(\"bblarsen-sci\", \"altair_themes\", \"main\"):\n",
    "        import main_theme\n",
    "\n",
    "        @alt.theme.register(\"custom_theme\", enable=True)\n",
    "        def custom_theme():\n",
    "            return main_theme.main_theme()\n",
    "\n",
    "import_theme_new()"
   ]
  },
  {
   "cell_type": "code",
   "execution_count": null,
   "metadata": {},
   "outputs": [],
   "source": [
    "# Input data\n",
    "DMS_data = pd.read_csv(snakemake.input.entry_df)\n",
    "\n",
    "hendra_poly_df = pd.read_csv(snakemake.input.hendra_poly_df)\n",
    "nipah_poly_df = pd.read_csv(snakemake.input.nipah_poly_df)\n",
    "\n",
    "escape_df = pd.read_csv(snakemake.input.escape_df)\n",
    "\n",
    "# Params\n",
    "antibody_order = snakemake.params.antibody_order"
   ]
  },
  {
   "cell_type": "code",
   "execution_count": null,
   "metadata": {},
   "outputs": [],
   "source": [
    "# Merge polymorphism data with DMS functional effects\n",
    "def merge_seq_polymorphisms_with_functional_effects(DMS_data, seq_polymorphism_data):\n",
    "    seq_polymorphism_data = seq_polymorphism_data.query(\"site >= 29 and site <= 481\")\n",
    "    merged_df = pd.merge(\n",
    "        seq_polymorphism_data, DMS_data, how=\"left\", on=[\"site\", \"wildtype\", \"mutant\"]\n",
    "    )\n",
    "    return merged_df\n",
    "\n",
    "\n",
    "hendra_merged = merge_seq_polymorphisms_with_functional_effects(\n",
    "    DMS_data, hendra_poly_df\n",
    ")\n",
    "nipah_merged = merge_seq_polymorphisms_with_functional_effects(DMS_data, nipah_poly_df)\n",
    "\n",
    "combined = pd.concat(\n",
    "    [hendra_poly_df.assign(virus=\"Hendra\"), nipah_poly_df.assign(virus=\"Nipah\")],\n",
    "    ignore_index=True,\n",
    ").query(\"site >= 29 and site <= 481\")\n",
    "display(combined)"
   ]
  },
  {
   "cell_type": "code",
   "execution_count": null,
   "metadata": {},
   "outputs": [],
   "source": [
    "# find how many rows have NaN values in the effect column\n",
    "display(nipah_merged.sort_values('effect'))\n",
    "display(hendra_merged.sort_values('effect'))"
   ]
  },
  {
   "cell_type": "code",
   "execution_count": null,
   "metadata": {},
   "outputs": [],
   "source": [
    "# make a bar chart of the distribution of functional effects for each hendra and nipah mutation\n",
    "def make_cell_entry_bar_chart(df):\n",
    "    bar = (\n",
    "        alt.Chart(df)\n",
    "        .mark_rect(fill=\"#b8b0ac\", stroke=\"black\", strokeWidth=1)\n",
    "        .encode(\n",
    "            x=alt.X(\n",
    "                \"x1:Q\",\n",
    "                title=[\"Effects of mutations\", \"on Nipah F cell entry\"],\n",
    "                scale=alt.Scale(domain=[-4, 1]),\n",
    "                axis=alt.Axis(tickCount=4),\n",
    "            ),\n",
    "            x2=\"x2:Q\",\n",
    "            y=alt.Y(\"count()\", title=\"Mutation count\", axis=alt.Axis(tickCount=4)),\n",
    "        )\n",
    "        .transform_bin([\"x1\", \"x2\"], field=\"effect\", bin=alt.Bin(step=0.1))\n",
    "    )\n",
    "    return bar\n",
    "\n",
    "\n",
    "# make the chart for nipah\n",
    "nipah_mut_histogram = make_cell_entry_bar_chart(nipah_merged)\n",
    "\n",
    "# make the chart for hendra\n",
    "hendra_mut_histogram = make_cell_entry_bar_chart(hendra_merged)\n",
    "\n",
    "# Combine the two histograms into a single chart\n",
    "combined_histogram = alt.hconcat(\n",
    "    nipah_mut_histogram, hendra_mut_histogram\n",
    ").resolve_scale(x=\"shared\", y=\"shared\")\n",
    "combined_histogram.display()\n"
   ]
  },
  {
   "cell_type": "code",
   "execution_count": null,
   "metadata": {},
   "outputs": [],
   "source": [
    "# Save the chart\n",
    "combined_histogram.save(snakemake.output.cell_entry_plot_svg)\n",
    "combined_histogram.save(snakemake.output.cell_entry_plot_png, ppi=300)\n"
   ]
  },
  {
   "cell_type": "markdown",
   "metadata": {},
   "source": [
    "### Antibody Escape\n",
    "Now do the same thing above from the functional effects data but with the antibody escape data."
   ]
  },
  {
   "cell_type": "code",
   "execution_count": null,
   "metadata": {},
   "outputs": [],
   "source": [
    "# setup dataframe with mutation column\n",
    "escape_df[\"mutation\"] = (\n",
    "    escape_df[\"wildtype\"].astype(str)\n",
    "    + escape_df[\"site\"].astype(str)\n",
    "    + escape_df[\"mutant\"]\n",
    ")\n",
    "\n",
    "merged_escape = pd.merge(\n",
    "    combined,\n",
    "    escape_df,\n",
    "    how=\"outer\",\n",
    "    on=[\"site\", \"wildtype\", \"mutant\"],\n",
    ")\n",
    "# check to see which mutations are missing from the escape data\n",
    "\n",
    "# replace empty strings\n",
    "merged_escape[\"virus\"] = merged_escape[\"virus\"].fillna(\"Not observed\")\n",
    "display(merged_escape)"
   ]
  },
  {
   "cell_type": "code",
   "execution_count": null,
   "metadata": {},
   "outputs": [],
   "source": [
    "# plot escape data\n",
    "nipah_chart = (\n",
    "    alt.Chart(merged_escape.query(\"escape_mean > 0 & virus != 'Not observed'\"))\n",
    "    .mark_point(filled=True, strokeWidth=0.5, stroke=\"black\", size=75, opacity=1)\n",
    "    .encode(\n",
    "        x=alt.X(\n",
    "            \"virus:O\",\n",
    "            title=None,\n",
    "            sort=[\"Not observed\", \"Nipah\", \"Hendra\"],\n",
    "            axis=alt.Axis(title=None, labels=False, ticks=True),\n",
    "        ),\n",
    "        y=alt.Y(\"escape_mean\", title=\"Escape\", axis=alt.Axis(tickCount=4, grid=True)),\n",
    "        xOffset=\"jitter:Q\",\n",
    "        color=alt.Color(\n",
    "            \"virus:N\",\n",
    "            title=None,\n",
    "            sort=[\"Not observed\", \"Nipah\", \"Hendra\"],\n",
    "            scale=alt.Scale(range=[\"#1C507B\", \"#F57F20\"]),\n",
    "        ),\n",
    "        column=alt.Column(\n",
    "            \"antibody\",\n",
    "            title=\"Antibody\",\n",
    "            spacing=0,\n",
    "            sort=antibody_order,\n",
    "            header=alt.Header(\n",
    "                titleOrient=\"bottom\",\n",
    "                labelOrient=\"bottom\",\n",
    "                titlePadding=0,\n",
    "                labelPadding=5,\n",
    "            ),\n",
    "        ),\n",
    "        tooltip=[\"antibody\", \"mutation\", \"escape_mean\"],\n",
    "    )\n",
    "    .transform_calculate(jitter=\"sqrt(-2*log(random()))*cos(2*PI*random())\")\n",
    "    .properties(width=40, height=75)\n",
    ")\n",
    "\n",
    "display(nipah_chart)\n",
    "nipah_chart.save('../../nipah_escape_polymorphisms.png', ppi=300)\n",
    "nipah_chart.save('../../nipah_escape_polymorphisms.svg')"
   ]
  },
  {
   "cell_type": "code",
   "execution_count": null,
   "metadata": {},
   "outputs": [],
   "source": [
    "# Save the chart\n",
    "nipah_chart.save(snakemake.output.escape_plot_svg)\n",
    "nipah_chart.save(snakemake.output.escape_plot_png, ppi=300)"
   ]
  }
 ],
 "metadata": {
  "kernelspec": {
   "display_name": "brendan",
   "language": "python",
   "name": "python3"
  },
  "language_info": {
   "codemirror_mode": {
    "name": "ipython",
    "version": 3
   },
   "file_extension": ".py",
   "mimetype": "text/x-python",
   "name": "python",
   "nbconvert_exporter": "python",
   "pygments_lexer": "ipython3",
   "version": "3.12.8"
  }
 },
 "nbformat": 4,
 "nbformat_minor": 2
}
