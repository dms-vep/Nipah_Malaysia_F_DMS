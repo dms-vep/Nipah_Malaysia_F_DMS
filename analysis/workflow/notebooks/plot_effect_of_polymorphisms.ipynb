{
 "cells": [
  {
   "cell_type": "markdown",
   "metadata": {},
   "source": [
    "### Plot effect of polymorphisms on entry and escape\n",
    "Read in csv that contains all variable sites calculated from find_variable_sites_from_alignments and plot how each of those mutations affects entry and escape."
   ]
  },
  {
   "cell_type": "code",
   "execution_count": null,
   "metadata": {},
   "outputs": [],
   "source": [
    "import pandas as pd\n",
    "import altair as alt\n",
    "import httpimport\n",
    "import numpy as np\n",
    "\n",
    "_ = alt.data_transformers.disable_max_rows()"
   ]
  },
  {
   "cell_type": "code",
   "execution_count": null,
   "metadata": {},
   "outputs": [],
   "source": [
    "# Import custom altair theme from remote github using httpimport module\n",
    "def import_theme_new():\n",
    "    with httpimport.github_repo(\"bblarsen-sci\", \"altair_themes\", \"main\"):\n",
    "        import main_theme\n",
    "\n",
    "        @alt.theme.register(\"custom_theme\", enable=True)\n",
    "        def custom_theme():\n",
    "            return main_theme.main_theme()\n",
    "\n",
    "import_theme_new()"
   ]
  },
  {
   "cell_type": "code",
   "execution_count": null,
   "metadata": {},
   "outputs": [],
   "source": [
    "# Input data\n",
    "DMS_data = pd.read_csv(snakemake.input.entry_df)\n",
    "\n",
    "hendra_poly_df = pd.read_csv(snakemake.input.hendra_poly_df)\n",
    "nipah_poly_df = pd.read_csv(snakemake.input.nipah_poly_df)\n",
    "\n",
    "escape_df = pd.read_csv(snakemake.input.escape_df)\n",
    "\n",
    "# Params\n",
    "antibody_order = snakemake.params.antibody_order"
   ]
  },
  {
   "cell_type": "markdown",
   "metadata": {},
   "source": [
    "### Paths for running manually"
   ]
  },
  {
   "cell_type": "code",
   "execution_count": null,
   "metadata": {},
   "outputs": [],
   "source": [
    "#DMS_data = pd.read_csv('../../results/filtered_data/cell_entry/Nipah_F_func_effects_filtered.csv')\n",
    "#hendra_poly_df = pd.read_csv('../../results/site_differences/hendra_F_variable_sites_detailed.csv')\n",
    "#nipah_poly_df = pd.read_csv('../../results/site_differences/nipah_F_variable_sites_detailed.csv')\n",
    "#escape_df = pd.read_csv('../../results/filtered_data/antibody_escape/combined/all_antibodies_escape_filtered.csv')\n",
    "#antibody_order = [\"12B2\", \"2D3\", \"4H3\", \"1A9\", \"1F2\", \"2B12\"]\n"
   ]
  },
  {
   "cell_type": "code",
   "execution_count": null,
   "metadata": {},
   "outputs": [],
   "source": [
    "# Merge polymorphism data with DMS functional effects\n",
    "def merge_seq_polymorphisms_with_functional_effects(DMS_data, seq_polymorphism_data):\n",
    "    seq_polymorphism_data = seq_polymorphism_data.query(\"site >= 29 and site <= 481\")\n",
    "    merged_df = pd.merge(\n",
    "        seq_polymorphism_data, DMS_data, how=\"left\", on=[\"site\", \"wildtype\", \"mutant\"]\n",
    "    )\n",
    "    return merged_df\n",
    "\n",
    "\n",
    "hendra_merged = merge_seq_polymorphisms_with_functional_effects(\n",
    "    DMS_data, hendra_poly_df\n",
    ")\n",
    "nipah_merged = merge_seq_polymorphisms_with_functional_effects(DMS_data, nipah_poly_df)\n",
    "\n",
    "combined = pd.concat(\n",
    "    [hendra_poly_df.assign(virus=\"Hendra\"), nipah_poly_df.assign(virus=\"Nipah\")],\n",
    "    ignore_index=True,\n",
    ").query(\"site >= 29 and site <= 481\")\n",
    "display(combined)"
   ]
  },
  {
   "cell_type": "code",
   "execution_count": null,
   "metadata": {},
   "outputs": [],
   "source": [
    "# find how many rows have NaN values in the effect column\n",
    "display(nipah_merged.sort_values('effect'))\n",
    "display(hendra_merged.sort_values('effect'))"
   ]
  },
  {
   "cell_type": "code",
   "execution_count": null,
   "metadata": {},
   "outputs": [],
   "source": [
    "# make a bar chart of the distribution of functional effects for each hendra and nipah mutation\n",
    "def make_cell_entry_bar_chart(df):\n",
    "    bar = (\n",
    "        alt.Chart(df)\n",
    "        .mark_rect(fill=\"#b8b0ac\", stroke=\"black\", strokeWidth=1)\n",
    "        .encode(\n",
    "            x=alt.X(\n",
    "                \"x1:Q\",\n",
    "                title=[\"Effects of mutations\", \"on Nipah F cell entry\"],\n",
    "                scale=alt.Scale(domain=[-4, 1]),\n",
    "                axis=alt.Axis(tickCount=4),\n",
    "            ),\n",
    "            x2=\"x2:Q\",\n",
    "            y=alt.Y(\"count()\", title=\"Mutation count\", axis=alt.Axis(tickCount=4)),\n",
    "        )\n",
    "        .transform_bin([\"x1\", \"x2\"], field=\"effect\", bin=alt.Bin(step=0.1))\n",
    "    )\n",
    "    return bar\n",
    "\n",
    "\n",
    "# make the chart for nipah\n",
    "nipah_mut_histogram = make_cell_entry_bar_chart(nipah_merged)\n",
    "\n",
    "# make the chart for hendra\n",
    "hendra_mut_histogram = make_cell_entry_bar_chart(hendra_merged)\n",
    "\n",
    "# Combine the two histograms into a single chart\n",
    "combined_histogram = alt.hconcat(\n",
    "    nipah_mut_histogram, hendra_mut_histogram\n",
    ").resolve_scale(x=\"shared\", y=\"shared\")\n",
    "combined_histogram.display()\n"
   ]
  },
  {
   "cell_type": "code",
   "execution_count": null,
   "metadata": {},
   "outputs": [],
   "source": [
    "# Save the chart\n",
    "combined_histogram.save(snakemake.output.cell_entry_plot_svg)\n",
    "combined_histogram.save(snakemake.output.cell_entry_plot_png, ppi=300)\n"
   ]
  },
  {
   "cell_type": "markdown",
   "metadata": {},
   "source": [
    "### Antibody Escape\n",
    "Now do the same thing above from the functional effects data but with the antibody escape data."
   ]
  },
  {
   "cell_type": "code",
   "execution_count": null,
   "metadata": {},
   "outputs": [],
   "source": [
    "# setup dataframe with mutation column\n",
    "escape_df[\"mutation\"] = (\n",
    "    escape_df[\"wildtype\"].astype(str)\n",
    "    + escape_df[\"site\"].astype(str)\n",
    "    + escape_df[\"mutant\"]\n",
    ")\n",
    "\n",
    "merged_escape = pd.merge(\n",
    "    combined,\n",
    "    escape_df,\n",
    "    how=\"outer\",\n",
    "    on=[\"site\", \"wildtype\", \"mutant\"],\n",
    ")\n",
    "# check to see which mutations are missing from the escape data\n",
    "\n",
    "# replace empty strings\n",
    "merged_escape[\"virus\"] = merged_escape[\"virus\"].fillna(\"Not observed\")\n",
    "display(merged_escape)"
   ]
  },
  {
   "cell_type": "code",
   "execution_count": null,
   "metadata": {},
   "outputs": [],
   "source": [
    "# plot escape data\n",
    "nipah_chart = (\n",
    "    alt.Chart(merged_escape.query(\"escape_mean > 0 & virus != 'Not observed'\"))\n",
    "    .mark_point(filled=True, strokeWidth=0.5, stroke=\"black\", size=75, opacity=1)\n",
    "    .encode(\n",
    "        x=alt.X(\n",
    "            \"virus:O\",\n",
    "            title=None,\n",
    "            sort=[\"Not observed\", \"Nipah\", \"Hendra\"],\n",
    "            axis=alt.Axis(title=None, labels=False, ticks=True),\n",
    "        ),\n",
    "        y=alt.Y(\"escape_mean\", title=\"Escape\", axis=alt.Axis(tickCount=4, grid=True)),\n",
    "        xOffset=\"jitter:Q\",\n",
    "        color=alt.Color(\n",
    "            \"virus:N\",\n",
    "            title=None,\n",
    "            sort=[\"Not observed\", \"Nipah\", \"Hendra\"],\n",
    "            scale=alt.Scale(range=[\"#1C507B\", \"#F57F20\"]),\n",
    "        ),\n",
    "        column=alt.Column(\n",
    "            \"antibody\",\n",
    "            title=\"Antibody\",\n",
    "            spacing=0,\n",
    "            sort=antibody_order,\n",
    "            header=alt.Header(\n",
    "                titleOrient=\"bottom\",\n",
    "                labelOrient=\"bottom\",\n",
    "                titlePadding=0,\n",
    "                labelPadding=5,\n",
    "            ),\n",
    "        ),\n",
    "        tooltip=[\"antibody\", \"mutation\", \"escape_mean\"],\n",
    "    )\n",
    "    .transform_calculate(jitter=\"sqrt(-2*log(random()))*cos(2*PI*random())\")\n",
    "    .properties(width=40, height=75)\n",
    ")\n",
    "\n",
    "display(nipah_chart)\n",
    "nipah_chart.save('../../nipah_escape_polymorphisms.png', ppi=300)\n",
    "nipah_chart.save('../../nipah_escape_polymorphisms.svg')"
   ]
  },
  {
   "cell_type": "code",
   "execution_count": null,
   "metadata": {},
   "outputs": [],
   "source": [
    "# Save the chart\n",
    "nipah_chart.save(snakemake.output.escape_plot_svg)\n",
    "nipah_chart.save(snakemake.output.escape_plot_png, ppi=300)"
   ]
  },
  {
   "cell_type": "code",
   "execution_count": null,
   "metadata": {},
   "outputs": [],
   "source": [
    "#ic50_data = pd.read_csv('../../results/ic50_data/ic50_fold_changes_hendra.csv')\n",
    "#ic50_data[\"at_threshold\"] = np.where(ic50_data[\"ic50_mutant\"] == 10, \"yes\", \"no\")\n",
    "#ic50_data[\"ic50_fold\"] = ic50_data[\"ic50_fold\"].round(1)\n",
    "#display(ic50_data)"
   ]
  },
  {
   "cell_type": "code",
   "execution_count": null,
   "metadata": {},
   "outputs": [],
   "source": [
    "# Plot IC50 values for unmutated and mutant for each antibody\n",
    "\n",
    "# Base chart\n",
    "#ic50_chart_base = (\n",
    "#    alt.Chart(ic50_data)\n",
    "#    .mark_point(\n",
    "#        filled=True, strokeWidth=1, stroke=\"black\", size=75, opacity=1\n",
    "#    )\n",
    "#    .encode(x=alt.X(\"antibody:O\", title=None, sort=antibody_order))\n",
    "#)\n",
    "#\n",
    "## Unmutated and mutant points\n",
    "#unmutated = ic50_chart_base.encode(\n",
    "#    y=alt.Y(\"ic50_unmutated:Q\", title=None), color=alt.value(\"#1C507B\")\n",
    "#)\n",
    "#mutant = ic50_chart_base.encode(\n",
    "#    y=alt.Y(\"ic50_mutant:Q\", title=None), color=alt.value(\"#F57F20\")\n",
    "#)\n",
    "#\n",
    "## Gray lines connecting unmutated and mutant points\n",
    "#gray_lines = (\n",
    "#    alt.Chart(ic50_data)\n",
    "#    .mark_rule(color=\"#b8b0ac\", opacity=0.75)\n",
    "#    .encode(\n",
    "#        x=alt.X(\n",
    "#            \"antibody:O\",\n",
    "#            title=None,\n",
    "#            sort=antibody_order,\n",
    "#            axis=alt.Axis(labelAngle=0),\n",
    "#        ),\n",
    "#        y=alt.Y(\n",
    "#            \"ic50_unmutated:Q\",\n",
    "#            axis=alt.Axis(tickCount=3, grid=False, labelAngle=0),\n",
    "#            scale=alt.Scale(type=\"log\"),\n",
    "#        ),\n",
    "#        y2=alt.Y2(\"ic50_mutant:Q\"),\n",
    "#    )\n",
    "#)\n",
    "#\n",
    "## Horizontal line at y=10 (limit of detection)\n",
    "#rule = (\n",
    "#    alt.Chart()\n",
    "#    .mark_rule(color=\"#b8b0ac\", strokeDash=[2, 2], opacity=0.5)\n",
    "#    .encode(y=alt.datum(10))\n",
    "#)\n",
    "#\n",
    "## Text labels for fold change\n",
    "#text = (\n",
    "#    alt.Chart(ic50_data)\n",
    "#    .mark_text(dy=-10, baseline=\"bottom\", align=\"center\")\n",
    "#    .encode(\n",
    "#        x=alt.X(\n",
    "#            \"antibody:O\",\n",
    "#            title=None,\n",
    "#            sort=antibody_order,\n",
    "#            axis=alt.Axis(labelAngle=0),\n",
    "#        ),\n",
    "#        y=alt.datum(10),\n",
    "#        text=alt.Text(\"ic50_fold:N\"),\n",
    "#    )\n",
    "#)\n",
    "#\n",
    "## Combine all layers\n",
    "#combined_IC50_change = alt.layer(rule, gray_lines, unmutated, mutant, text).properties(\n",
    "#    width=240, height=50\n",
    "#)\n",
    "#\n",
    "#display(combined_IC50_change)\n",
    "##combined_IC50_change.save(\"../../ic50_chart.png\", ppi=300)\n",
    "##combined_IC50_change.save(\"../../ic50_chart.svg\")\n",
    "#"
   ]
  },
  {
   "cell_type": "code",
   "execution_count": null,
   "metadata": {},
   "outputs": [],
   "source": []
  }
 ],
 "metadata": {
  "kernelspec": {
   "display_name": "brendan",
   "language": "python",
   "name": "python3"
  },
  "language_info": {
   "codemirror_mode": {
    "name": "ipython",
    "version": 3
   },
   "file_extension": ".py",
   "mimetype": "text/x-python",
   "name": "python",
   "nbconvert_exporter": "python",
   "pygments_lexer": "ipython3",
   "version": "3.12.8"
  }
 },
 "nbformat": 4,
 "nbformat_minor": 2
}
