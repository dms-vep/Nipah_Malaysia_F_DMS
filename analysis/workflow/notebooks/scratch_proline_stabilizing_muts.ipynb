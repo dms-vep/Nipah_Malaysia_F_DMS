{
 "cells": [
  {
   "cell_type": "markdown",
   "id": "a77a437d",
   "metadata": {},
   "source": [
    "This notebook identifies candidate stabilizing proline mutations using cell entry DMS data and structural features."
   ]
  },
  {
   "cell_type": "code",
   "execution_count": null,
   "id": "be4a7e29",
   "metadata": {},
   "outputs": [],
   "source": [
    "import pandas as pd\n",
    "from tempfile import gettempdir\n",
    "import numpy as np\n",
    "import biotite.database.rcsb as rcsb\n",
    "import biotite.sequence as seq\n",
    "import biotite.structure as struc\n",
    "import biotite.structure.io as strucio\n",
    "import biotite.structure.io.pdbx as pdbx\n",
    "\n",
    "import hydride"
   ]
  },
  {
   "cell_type": "code",
   "execution_count": null,
   "id": "4fd15069",
   "metadata": {},
   "outputs": [],
   "source": [
    "# load entry data\n",
    "entry_df = pd.read_csv(\n",
    "    \"../../results/filtered_data/cell_entry/Nipah_F_func_effects_filtered.csv\"\n",
    ")\n",
    "display(entry_df)"
   ]
  },
  {
   "cell_type": "code",
   "execution_count": null,
   "id": "174f8745",
   "metadata": {},
   "outputs": [],
   "source": [
    "# load pdb\n",
    "file_name = rcsb.fetch(\"5EVM\", \"cif\", gettempdir())\n",
    "structure = strucio.load_structure(file_name)"
   ]
  },
  {
   "cell_type": "code",
   "execution_count": null,
   "id": "203e60f8",
   "metadata": {},
   "outputs": [],
   "source": [
    "structure = structure[(structure.chain_id == \"A\") | (structure.chain_id == \"B\") | (structure.chain_id == \"C\")]"
   ]
  },
  {
   "cell_type": "code",
   "execution_count": null,
   "id": "0b7fe747",
   "metadata": {},
   "outputs": [],
   "source": [
    "# Get hydrogen bond interactions with hydride and biotite package\n",
    "structure.bonds = struc.connect_via_residue_names(structure)\n",
    "charges = hydride.estimate_amino_acid_charges(structure, ph=7.0)\n",
    "structure.set_annotation(\"charge\", charges)\n",
    "structure, mask = hydride.add_hydrogen(structure)\n",
    "structure.coord = hydride.relax_hydrogen(structure)\n",
    "\n",
    "triplets = struc.hbond(structure, cutoff_dist=3)\n",
    "\n",
    "# Extract information for each hbond interaction\n",
    "data = []\n",
    "for donor, _, acceptor in triplets:\n",
    "    data.append(\n",
    "        {\n",
    "            \"donor_chain\": structure.chain_id[donor],\n",
    "            \"donor_resid\": structure.res_id[donor],\n",
    "            \"donor_charge\": structure.charge[donor],\n",
    "            \"donor_resname\": structure.res_name[donor],\n",
    "            \"donor_atom\": structure.atom_name[donor],\n",
    "            \"acceptor_chain\": structure.chain_id[acceptor],\n",
    "            \"acceptor_resid\": structure.res_id[acceptor],\n",
    "            \"acceptor_charge\": structure.charge[acceptor],\n",
    "            \"acceptor_resname\": structure.res_name[acceptor],\n",
    "            \"acceptor_atom\": structure.atom_name[acceptor],\n",
    "        }\n",
    "    )\n"
   ]
  },
  {
   "cell_type": "code",
   "execution_count": null,
   "id": "557c3002",
   "metadata": {},
   "outputs": [],
   "source": [
    "# Create DataFrame from above data\n",
    "df = pd.DataFrame(data)\n",
    "# Filter for sidechain-sidechain hydrogen bonds only and remove non peptide residues\n",
    "non_peptide_residues = [\"NAG\", \"MAN\", \"MLI\"]\n",
    "sidechain_h_bonds = df.query(\n",
    "    'donor_atom not in [\"C\", \"N\", \"CA\", \"O\"] and acceptor_atom not in [\"C\", \"N\", \"CA\", \"O\"]'\n",
    ").query('donor_resname not in @non_peptide_residues and acceptor_resname not in @non_peptide_residues')\n",
    "\n",
    "# get lists of sites involved in sidechain-sidechain hydrogen bonds\n",
    "donor_site_list = sidechain_h_bonds[\"donor_resid\"].unique().tolist()\n",
    "acceptor_site_list = sidechain_h_bonds[\"acceptor_resid\"].unique().tolist()\n",
    "\n",
    "# combined donor and acceptor sites into one list\n",
    "hydrogen_bonding_sites = sorted(set(donor_site_list + acceptor_site_list))\n",
    "\n",
    "# print list of sites involved in sidechain-sidechain hydrogen bonds\n",
    "print(hydrogen_bonding_sites)\n"
   ]
  },
  {
   "cell_type": "code",
   "execution_count": null,
   "id": "b651f39a",
   "metadata": {},
   "outputs": [],
   "source": [
    "#salt bridges\n",
    "# get list of sites involved in salt bridges\n",
    "salt_bridge_sites = sidechain_h_bonds.query('(donor_charge == 1 and acceptor_charge == -1) or (donor_charge == -1 and acceptor_charge == 1)')\n",
    "salt_bridge_site_list = salt_bridge_sites[\"donor_resid\"].unique().tolist() + salt_bridge_sites[\"acceptor_resid\"].unique().tolist()\n",
    "salt_bridge_site_list = sorted(set(salt_bridge_site_list))\n",
    "print(salt_bridge_site_list)"
   ]
  },
  {
   "cell_type": "code",
   "execution_count": null,
   "id": "6c2d9389",
   "metadata": {},
   "outputs": [],
   "source": [
    "# get hbonds between chains\n",
    "display(sidechain_h_bonds.query('donor_chain != acceptor_chain').head(3))\n",
    "# get possible problematic hbonds \n",
    "display(sidechain_h_bonds.query('donor_charge == acceptor_charge and donor_charge != 0').head(3))"
   ]
  },
  {
   "cell_type": "code",
   "execution_count": null,
   "id": "a383f38f",
   "metadata": {},
   "outputs": [],
   "source": [
    "#get secondary structure features using biotite\n",
    "pdbx_file = pdbx.CIFFile.read(file_name)\n",
    "sse = pdbx.get_sse(pdbx_file)['A']\n",
    "\n",
    "# Function to add secondary structure feature to annotation\n",
    "def _add_sec_str(annotation, first, last, str_type):\n",
    "        if str_type == \"a\":\n",
    "            str_type = \"helix\"\n",
    "        elif str_type == \"b\":\n",
    "            str_type = \"sheet\"\n",
    "        else:\n",
    "            # coil\n",
    "            return\n",
    "        feature = seq.Feature(\n",
    "            \"SecStr\", [seq.Location(first, last)], {\"sec_str_type\": str_type}\n",
    "        )\n",
    "        annotation.add_feature(feature)\n",
    "\n",
    "# Find the intervals for each secondary structure element\n",
    "# and add to annotation\n",
    "annotation = seq.Annotation()\n",
    "curr_sse = None\n",
    "curr_start = None\n",
    "for i in range(len(sse)):\n",
    "    if curr_start is None:\n",
    "        curr_start = i\n",
    "        curr_sse = sse[i]\n",
    "    else:\n",
    "        if sse[i] != sse[i - 1]:\n",
    "            _add_sec_str(\n",
    "                annotation, curr_start + 1, i - 1 + 1, curr_sse\n",
    "            )\n",
    "            curr_start = i\n",
    "            curr_sse = sse[i]\n",
    "\n",
    "# Add last secondary structure element to annotation\n",
    "_add_sec_str(annotation, curr_start + 1, i - 1 + 1, curr_sse)\n",
    "\n",
    "# Extract helix and sheet data from annotation\n",
    "helix_data = []\n",
    "sheet_data = []\n",
    "for f in sorted(list(annotation)):\n",
    "    sec_str_type = str(f.qual[\"sec_str_type\"])\n",
    "    start = int(f.get_location_range()[0])\n",
    "    end = int(f.get_location_range()[1])\n",
    "    feature_range = list(range(start, end + 1))\n",
    "    #print(test)\n",
    "    if sec_str_type == \"helix\":\n",
    "        helix_data.append(feature_range)\n",
    "    elif sec_str_type == \"sheet\":\n",
    "        sheet_data.append(feature_range)\n",
    "\n",
    "\n",
    "# Create DataFrames from helix and sheet data\n",
    "helix_sites = [num for sublist in helix_data for num in sublist]\n",
    "sheet_sites = [num for sublist in sheet_data for num in sublist]\n",
    "print(helix_sites)\n",
    "print(sheet_sites)"
   ]
  },
  {
   "cell_type": "code",
   "execution_count": null,
   "id": "c7651289",
   "metadata": {},
   "outputs": [],
   "source": [
    "# Calculate std deviation of effects for each site in cavity and remove sites\n",
    "# with low variation or all negative effects, they are not interesting\n",
    "high_variation_df = (\n",
    "    entry_df.groupby(\"site\")\n",
    "    .agg(\n",
    "        effect_max=(\"effect\", \"max\"),\n",
    "        effect_std=(\"effect\", \"std\"),\n",
    "        effect_min_top4=(\"effect\", lambda x: x.nlargest(4).min()),\n",
    "    )\n",
    "    .reset_index()\n",
    ")\n",
    "\n",
    "# Use query for cleaner filtering\n",
    "high_variation_sites = high_variation_df.query(\n",
    "    \"effect_std >= 0.5 and effect_min_top4 >= -1\"\n",
    ")[\"site\"].tolist()\n",
    "\n",
    "print(f\"There are {len(high_variation_sites)} high variation sites\")\n",
    "\n",
    "# Find all sites where Proline mutations have effect < -3\n",
    "meets_condition = entry_df[\"mutant\"].eq(\"P\") & entry_df[\"effect\"].lt(-3)\n",
    "\n",
    "# Find sites where ALL rows meet the condition\n",
    "valid_sites = (\n",
    "    entry_df.assign(meets_condition=meets_condition)\n",
    "    .groupby(\"site\")[\"meets_condition\"]\n",
    "    .any()\n",
    "    .loc[lambda x: x]\n",
    "    .index.tolist()\n",
    ")\n",
    "print(f'There are {len(valid_sites)} valid sites where all Proline mutations have effect < -3')"
   ]
  },
  {
   "cell_type": "code",
   "execution_count": null,
   "id": "59a0d960",
   "metadata": {},
   "outputs": [],
   "source": [
    "site_ranges_list = list(range(49, 100)) + list(range(125, 286))\n",
    "print(site_ranges_list)"
   ]
  },
  {
   "cell_type": "code",
   "execution_count": null,
   "id": "d7bd4cc8",
   "metadata": {},
   "outputs": [],
   "source": [
    "# annotate entry data with secondary structure and h-bond/salt bridge info\n",
    "entry_df = entry_df.assign(\n",
    "    helix_site=entry_df[\"site\"].isin(helix_sites),\n",
    "    sheet_site=entry_df[\"site\"].isin(sheet_sites),\n",
    "    hydrogen_bonding_sites=entry_df[\"site\"].isin(hydrogen_bonding_sites),\n",
    "    salt_bridge_site=entry_df[\"site\"].isin(salt_bridge_site_list),\n",
    "    high_variation_sites=entry_df[\"site\"].isin(high_variation_sites),\n",
    "    valid_sites=entry_df[\"site\"].isin(valid_sites),\n",
    "    site_ranges_list=entry_df[\"site\"].isin(site_ranges_list)\n",
    ")\n",
    "display(entry_df)"
   ]
  },
  {
   "cell_type": "code",
   "execution_count": null,
   "id": "0647688a",
   "metadata": {},
   "outputs": [],
   "source": [
    "# All candidate stabilizing proline mutation sites\n",
    "print('All sites')\n",
    "\n",
    "total_site_list = (\n",
    "    entry_df.query(\"not helix_site and not sheet_site and not hydrogen_bonding_sites and not salt_bridge_site and high_variation_sites and valid_sites and site_ranges_list\")[\"site\"]\n",
    "    .unique()\n",
    "    .tolist()\n",
    ")\n",
    "print(f\"Total sites: {len(total_site_list)}\")\n",
    "print(total_site_list)\n",
    "\n"
   ]
  },
  {
   "cell_type": "code",
   "execution_count": null,
   "id": "8fc993c7",
   "metadata": {},
   "outputs": [],
   "source": []
  }
 ],
 "metadata": {
  "kernelspec": {
   "display_name": "NipahF_DMS_analysis",
   "language": "python",
   "name": "python3"
  },
  "language_info": {
   "codemirror_mode": {
    "name": "ipython",
    "version": 3
   },
   "file_extension": ".py",
   "mimetype": "text/x-python",
   "name": "python",
   "nbconvert_exporter": "python",
   "pygments_lexer": "ipython3",
   "version": "3.12.11"
  }
 },
 "nbformat": 4,
 "nbformat_minor": 5
}
