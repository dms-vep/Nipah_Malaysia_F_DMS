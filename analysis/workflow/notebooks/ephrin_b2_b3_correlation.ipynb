{
 "cells": [
  {
   "cell_type": "markdown",
   "metadata": {},
   "source": [
    "### bEFNB2 vs bEFNB3 correlations for F (this paper) and RBP (previous paper)\n",
    "Read in DMS entry data, calculate correlations, and plot correlations with Altair"
   ]
  },
  {
   "cell_type": "code",
   "execution_count": null,
   "metadata": {},
   "outputs": [],
   "source": [
    "import pandas as pd\n",
    "import altair as alt\n",
    "import httpimport\n",
    "import numpy as np\n",
    "import scipy.stats\n",
    "\n",
    "_ = alt.data_transformers.disable_max_rows()"
   ]
  },
  {
   "cell_type": "code",
   "execution_count": null,
   "metadata": {},
   "outputs": [],
   "source": [
    "# Import custom altair theme from remote github using httpimport module\n",
    "def import_theme_new():\n",
    "    with httpimport.github_repo(\"bblarsen-sci\", \"altair_themes\", \"main\"):\n",
    "        import main_theme\n",
    "\n",
    "        @alt.theme.register(\"custom_theme\", enable=True)\n",
    "        def custom_theme():\n",
    "            return main_theme.main_theme()\n",
    "\n",
    "\n",
    "import_theme_new()"
   ]
  },
  {
   "cell_type": "code",
   "execution_count": null,
   "metadata": {},
   "outputs": [],
   "source": [
    "# read in F data\n",
    "df_2 = pd.read_csv(snakemake.input.F_b2)\n",
    "df_3 = pd.read_csv(snakemake.input.F_b3)\n",
    "\n",
    "min_times_seen = snakemake.params.min_times_seen\n",
    "max_effect_std = snakemake.params.max_effect_std"
   ]
  },
  {
   "cell_type": "code",
   "execution_count": null,
   "metadata": {},
   "outputs": [],
   "source": [
    "#df_2 = pd.read_csv('../../../results/func_effects/averages/Nipah-F-CHO-bEFNB2_func_effects.csv')\n",
    "#df_3 = pd.read_csv('../../../results/func_effects/averages/Nipah-F-CHO-bEFNB3_func_effects.csv')"
   ]
  },
  {
   "cell_type": "code",
   "execution_count": null,
   "metadata": {},
   "outputs": [],
   "source": [
    "# merge ephrin b2 and b3 cell entry DMS data on site, wildtype, mutant\n",
    "merged_effects = pd.merge(df_2, df_3, on=[\"site\", \"wildtype\", \"mutant\"], suffixes=(\"_bEFNB2\", \"_bEFNB3\"), how=\"outer\")\n",
    "\n",
    "# filter at least min_times_seen times in both data frames, and with effect std <= max_effect_std in both replicates\n",
    "filtered_merged = merged_effects[\n",
    "    (merged_effects['mutant'] != '*') &\n",
    "    (merged_effects['times_seen_bEFNB2'] >= min_times_seen) &\n",
    "    (merged_effects['times_seen_bEFNB3'] >= min_times_seen) &\n",
    "    (merged_effects['effect_std_bEFNB2'] <= max_effect_std) &\n",
    "    (merged_effects['effect_std_bEFNB3'] <= max_effect_std)\n",
    "]"
   ]
  },
  {
   "cell_type": "code",
   "execution_count": null,
   "metadata": {},
   "outputs": [],
   "source": [
    "# function to plot correlation with pearson r value\n",
    "def plot_corr_w_pearson_r(df, x, y, x_axis_title, y_axis_title, x_rvalue, y_rvalue, tooltip_list):\n",
    "    tmp_df = df.copy()\n",
    "    tmp_df = tmp_df.round(2)\n",
    "\n",
    "    ##### calculate R value:\n",
    "    slope, intercept, r_value, p_value, std_err = scipy.stats.linregress(\n",
    "    tmp_df[x], tmp_df[y]\n",
    "    )\n",
    "    r_value = float(r_value)\n",
    "    print(f\"r_value: {r_value:.2f}\")\n",
    "\n",
    "    # Create a plot with Altair\n",
    "    base = alt.Chart(tmp_df).encode(\n",
    "        x=alt.X(x, title=x_axis_title),\n",
    "        y=alt.Y(y, title=y_axis_title),\n",
    "        tooltip=tooltip_list,\n",
    "    )\n",
    "\n",
    "    # Draw the circles\n",
    "    chart = base.mark_circle(\n",
    "        size=30,\n",
    "        opacity=1,\n",
    "        stroke='black',\n",
    "        strokeWidth=0.5,\n",
    "    ).encode()\n",
    "\n",
    "    # Write the r value to text in upper left corner\n",
    "    text = (\n",
    "        alt.Chart(\n",
    "            {\n",
    "                \"values\": [\n",
    "                    {\n",
    "                        \"x\": x_rvalue,\n",
    "                        \"y\": y_rvalue,\n",
    "                        \"text\": f\"r = {r_value:.2f}\",\n",
    "                    }\n",
    "                ]\n",
    "            }\n",
    "        )\n",
    "        .mark_text(\n",
    "            dx=10,\n",
    "            dy=0,\n",
    "            align=\"left\",\n",
    "        )\n",
    "        .encode(x=alt.X(\"x:Q\"), y=alt.Y(\"y:Q\"), text=\"text:N\")\n",
    "    )\n",
    "    combined_chart = chart + text\n",
    "    combined_chart = combined_chart.properties(width=200, height=200)\n",
    "    return combined_chart\n",
    "    \n",
    "x = \"effect_bEFNB2\"\n",
    "y = \"effect_bEFNB3\"\n",
    "x_axis_title = [\"Mutation entry score\", \"into CHO-bEFNB2 cells\"]\n",
    "y_axis_title = [\"Mutation entry score\", \"into CHO-bEFNB3 cells\"]\n",
    "tooltip_list = ['site','wildtype','mutant', x, y,'times_seen_bEFNB2','times_seen_bEFNB3']\n",
    "x_rvalue = -4\n",
    "y_rvalue = -0.1\n",
    "corr_chart = plot_corr_w_pearson_r(filtered_merged, x, y, x_axis_title, y_axis_title, x_rvalue, y_rvalue, tooltip_list)\n",
    "corr_chart.display()"
   ]
  },
  {
   "cell_type": "code",
   "execution_count": null,
   "metadata": {},
   "outputs": [],
   "source": [
    "# now plot correlation of average effects per site\n",
    "filter_merged_agg = filtered_merged.groupby(['site']).agg(\n",
    "    effect_bEFNB2_mean=('effect_bEFNB2', 'mean'),\n",
    "    effect_bEFNB3_mean=('effect_bEFNB3', 'mean'),\n",
    ").reset_index().round(2)\n",
    "\n",
    "x=\"effect_bEFNB2_mean\"\n",
    "y=\"effect_bEFNB3_mean\"\n",
    "x_axis_title = [\"Entry into CHO-bEFNB2 cells\"]\n",
    "y_axis_title = [\"Entry into CHO-bEFNB3 cells\"]\n",
    "tooltip_list = ['site', x, y]\n",
    "corr_chart_agg = plot_corr_w_pearson_r(filter_merged_agg, x, y, x_axis_title, y_axis_title, x_rvalue, y_rvalue, tooltip_list)\n",
    "corr_chart_agg.display()"
   ]
  },
  {
   "cell_type": "code",
   "execution_count": null,
   "metadata": {},
   "outputs": [],
   "source": [
    "# display side by side and save\n",
    "combined_chart = alt.hconcat(corr_chart, corr_chart_agg).resolve_scale(x='shared', y='shared')\n",
    "display(combined_chart)\n",
    "combined_chart.save(snakemake.output.F_corrs_plot_svg)\n",
    "combined_chart.save(snakemake.output.F_corrs_plot_png, ppi=300)"
   ]
  },
  {
   "cell_type": "markdown",
   "metadata": {},
   "source": [
    "### now do the exact same thing but with the RBP DMS data"
   ]
  },
  {
   "cell_type": "code",
   "execution_count": null,
   "metadata": {},
   "outputs": [],
   "source": [
    "# read in RBP data. This has already been filtered so don't need to do here\n",
    "RBP_b2 = pd.read_csv(snakemake.input.RBP_b2)\n",
    "RBP_b3 = pd.read_csv(snakemake.input.RBP_b3)\n",
    "\n",
    "merged_RBP = pd.merge(RBP_b2, RBP_b3, on=[\"site\", \"wildtype\", \"mutant\"], suffixes=(\"_bEFNB2\", \"_bEFNB3\"), how=\"inner\")\n",
    "display(merged_RBP)"
   ]
  },
  {
   "cell_type": "code",
   "execution_count": null,
   "metadata": {},
   "outputs": [],
   "source": [
    "# plot correlation of RBP data\n",
    "x = \"effect_bEFNB2\"\n",
    "y = \"effect_bEFNB3\"\n",
    "x_axis_title = [\"RBP Mutation entry score\", \"into CHO-bEFNB2 cells\"]\n",
    "y_axis_title = [\"RBP Mutation entry score\", \"into CHO-bEFNB3 cells\"]\n",
    "tooltip_list = [\n",
    "    \"site\",\n",
    "    \"wildtype\",\n",
    "    \"mutant\",\n",
    "    x,\n",
    "    y,\n",
    "    \"times_seen_bEFNB2\",\n",
    "    \"times_seen_bEFNB3\",\n",
    "]\n",
    "x_rvalue = -4\n",
    "y_rvalue = -0.1\n",
    "corr_chart_RBP = plot_corr_w_pearson_r(\n",
    "    merged_RBP, x, y, x_axis_title, y_axis_title, x_rvalue, y_rvalue, tooltip_list\n",
    ")\n",
    "corr_chart_RBP.display()\n"
   ]
  },
  {
   "cell_type": "code",
   "execution_count": null,
   "metadata": {},
   "outputs": [],
   "source": [
    "filter_merged_agg_RBP = (\n",
    "    merged_RBP.groupby([\"site\"])\n",
    "    .agg(\n",
    "        effect_bEFNB2_mean=(\"effect_bEFNB2\", \"mean\"),\n",
    "        effect_bEFNB3_mean=(\"effect_bEFNB3\", \"mean\"),\n",
    "    )\n",
    "    .reset_index()\n",
    "    .round(2)\n",
    ")\n",
    "\n",
    "x = \"effect_bEFNB2_mean\"\n",
    "y = \"effect_bEFNB3_mean\"\n",
    "x_axis_title = [\"Mean RBP mutation entry score\", \"into CHO-bEFNB2 cells\"]\n",
    "y_axis_title = [\"Mean RBP mutation entry score\", \"into CHO-bEFNB3 cells\"]\n",
    "tooltip_list = [\"site\", x, y]\n",
    "corr_chart_agg_RBP = plot_corr_w_pearson_r(\n",
    "    filter_merged_agg_RBP,\n",
    "    x,\n",
    "    y,\n",
    "    x_axis_title,\n",
    "    y_axis_title,\n",
    "    x_rvalue,\n",
    "    y_rvalue,\n",
    "    tooltip_list,\n",
    ")\n",
    "corr_chart_agg_RBP.display()\n"
   ]
  },
  {
   "cell_type": "code",
   "execution_count": null,
   "metadata": {},
   "outputs": [],
   "source": [
    "# display side by side and save\n",
    "combined_chart_RBP = alt.hconcat(corr_chart_agg, corr_chart_agg_RBP).resolve_scale(\n",
    "    x=\"shared\", y=\"shared\"\n",
    ")\n",
    "display(combined_chart_RBP)\n",
    "combined_chart_RBP.save(snakemake.output.RBP_corrs_plot_svg)\n",
    "combined_chart_RBP.save(snakemake.output.RBP_corrs_plot_png, ppi=300)"
   ]
  }
 ],
 "metadata": {
  "kernelspec": {
   "display_name": "brendan",
   "language": "python",
   "name": "python3"
  },
  "language_info": {
   "codemirror_mode": {
    "name": "ipython",
    "version": 3
   },
   "file_extension": ".py",
   "mimetype": "text/x-python",
   "name": "python",
   "nbconvert_exporter": "python",
   "pygments_lexer": "ipython3",
   "version": "3.12.8"
  }
 },
 "nbformat": 4,
 "nbformat_minor": 2
}
