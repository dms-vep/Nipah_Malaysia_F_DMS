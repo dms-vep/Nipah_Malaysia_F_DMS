{
 "cells": [
  {
   "cell_type": "code",
   "execution_count": 1,
   "id": "85185490",
   "metadata": {},
   "outputs": [],
   "source": [
    "import re\n",
    "import altair as alt\n",
    "import numpy as np\n",
    "import pandas as pd\n",
    "import scipy.stats\n",
    "import httpimport\n",
    "\n",
    "# allow more rows for Altair\n",
    "_ = alt.data_transformers.disable_max_rows()\n"
   ]
  },
  {
   "cell_type": "code",
   "execution_count": 2,
   "id": "1fdcfe65",
   "metadata": {},
   "outputs": [],
   "source": [
    "# Import custom altair theme from remote github using httpimport module\n",
    "def import_theme_new():\n",
    "    with httpimport.github_repo(\"bblarsen-sci\", \"altair_themes\", \"main\"):\n",
    "        import main_theme\n",
    "\n",
    "        @alt.theme.register(\"custom_theme\", enable=True)\n",
    "        def custom_theme():\n",
    "            return main_theme.main_theme()\n",
    "\n",
    "\n",
    "import_theme_new()\n"
   ]
  },
  {
   "cell_type": "code",
   "execution_count": 3,
   "id": "53ebed02",
   "metadata": {},
   "outputs": [
    {
     "ename": "KeyError",
     "evalue": "'Mutant'",
     "output_type": "error",
     "traceback": [
      "\u001b[0;31m---------------------------------------------------------------------------\u001b[0m",
      "\u001b[0;31mKeyError\u001b[0m                                  Traceback (most recent call last)",
      "File \u001b[0;32m~/miniforge3/envs/brendan/lib/python3.12/site-packages/pandas/core/indexes/base.py:3805\u001b[0m, in \u001b[0;36mIndex.get_loc\u001b[0;34m(self, key)\u001b[0m\n\u001b[1;32m   3804\u001b[0m \u001b[38;5;28;01mtry\u001b[39;00m:\n\u001b[0;32m-> 3805\u001b[0m     \u001b[38;5;28;01mreturn\u001b[39;00m \u001b[38;5;28;43mself\u001b[39;49m\u001b[38;5;241;43m.\u001b[39;49m\u001b[43m_engine\u001b[49m\u001b[38;5;241;43m.\u001b[39;49m\u001b[43mget_loc\u001b[49m\u001b[43m(\u001b[49m\u001b[43mcasted_key\u001b[49m\u001b[43m)\u001b[49m\n\u001b[1;32m   3806\u001b[0m \u001b[38;5;28;01mexcept\u001b[39;00m \u001b[38;5;167;01mKeyError\u001b[39;00m \u001b[38;5;28;01mas\u001b[39;00m err:\n",
      "File \u001b[0;32mindex.pyx:167\u001b[0m, in \u001b[0;36mpandas._libs.index.IndexEngine.get_loc\u001b[0;34m()\u001b[0m\n",
      "File \u001b[0;32mindex.pyx:196\u001b[0m, in \u001b[0;36mpandas._libs.index.IndexEngine.get_loc\u001b[0;34m()\u001b[0m\n",
      "File \u001b[0;32mpandas/_libs/hashtable_class_helper.pxi:7081\u001b[0m, in \u001b[0;36mpandas._libs.hashtable.PyObjectHashTable.get_item\u001b[0;34m()\u001b[0m\n",
      "File \u001b[0;32mpandas/_libs/hashtable_class_helper.pxi:7089\u001b[0m, in \u001b[0;36mpandas._libs.hashtable.PyObjectHashTable.get_item\u001b[0;34m()\u001b[0m\n",
      "\u001b[0;31mKeyError\u001b[0m: 'Mutant'",
      "\nThe above exception was the direct cause of the following exception:\n",
      "\u001b[0;31mKeyError\u001b[0m                                  Traceback (most recent call last)",
      "Cell \u001b[0;32mIn[3], line 6\u001b[0m\n\u001b[1;32m      1\u001b[0m escape_df \u001b[38;5;241m=\u001b[39m pd\u001b[38;5;241m.\u001b[39mread_csv(\n\u001b[1;32m      2\u001b[0m     \u001b[38;5;124m\"\u001b[39m\u001b[38;5;124m../../results/filtered_data/antibody_escape/combined/all_antibodies_escape_filtered.csv\u001b[39m\u001b[38;5;124m\"\u001b[39m\n\u001b[1;32m      3\u001b[0m )\n\u001b[1;32m      4\u001b[0m ic50 \u001b[38;5;241m=\u001b[39m pd\u001b[38;5;241m.\u001b[39mread_csv(\u001b[38;5;124m\"\u001b[39m\u001b[38;5;124m../../data/experimental_data/relative_validation_IC50s.csv\u001b[39m\u001b[38;5;124m\"\u001b[39m)\n\u001b[0;32m----> 6\u001b[0m ic50[\u001b[38;5;124m'\u001b[39m\u001b[38;5;124mwildtype\u001b[39m\u001b[38;5;124m'\u001b[39m] \u001b[38;5;241m=\u001b[39m \u001b[43mic50\u001b[49m\u001b[43m[\u001b[49m\u001b[38;5;124;43m'\u001b[39;49m\u001b[38;5;124;43mMutant\u001b[39;49m\u001b[38;5;124;43m'\u001b[39;49m\u001b[43m]\u001b[49m\u001b[38;5;241m.\u001b[39mstr[\u001b[38;5;241m0\u001b[39m]\n\u001b[1;32m      7\u001b[0m ic50[\u001b[38;5;124m\"\u001b[39m\u001b[38;5;124msite\u001b[39m\u001b[38;5;124m\"\u001b[39m] \u001b[38;5;241m=\u001b[39m ic50[\u001b[38;5;124m\"\u001b[39m\u001b[38;5;124mMutant\u001b[39m\u001b[38;5;124m\"\u001b[39m]\u001b[38;5;241m.\u001b[39mstr\u001b[38;5;241m.\u001b[39mextract(\u001b[38;5;124mr\u001b[39m\u001b[38;5;124m\"\u001b[39m\u001b[38;5;124m([0-9]+)\u001b[39m\u001b[38;5;124m\"\u001b[39m)\u001b[38;5;241m.\u001b[39mastype(\u001b[38;5;28mint\u001b[39m)\n\u001b[1;32m      8\u001b[0m ic50[\u001b[38;5;124m'\u001b[39m\u001b[38;5;124mmutant\u001b[39m\u001b[38;5;124m'\u001b[39m] \u001b[38;5;241m=\u001b[39m ic50[\u001b[38;5;124m'\u001b[39m\u001b[38;5;124mMutant\u001b[39m\u001b[38;5;124m'\u001b[39m]\u001b[38;5;241m.\u001b[39mstr[\u001b[38;5;241m-\u001b[39m\u001b[38;5;241m1\u001b[39m]\n",
      "File \u001b[0;32m~/miniforge3/envs/brendan/lib/python3.12/site-packages/pandas/core/frame.py:4102\u001b[0m, in \u001b[0;36mDataFrame.__getitem__\u001b[0;34m(self, key)\u001b[0m\n\u001b[1;32m   4100\u001b[0m \u001b[38;5;28;01mif\u001b[39;00m \u001b[38;5;28mself\u001b[39m\u001b[38;5;241m.\u001b[39mcolumns\u001b[38;5;241m.\u001b[39mnlevels \u001b[38;5;241m>\u001b[39m \u001b[38;5;241m1\u001b[39m:\n\u001b[1;32m   4101\u001b[0m     \u001b[38;5;28;01mreturn\u001b[39;00m \u001b[38;5;28mself\u001b[39m\u001b[38;5;241m.\u001b[39m_getitem_multilevel(key)\n\u001b[0;32m-> 4102\u001b[0m indexer \u001b[38;5;241m=\u001b[39m \u001b[38;5;28;43mself\u001b[39;49m\u001b[38;5;241;43m.\u001b[39;49m\u001b[43mcolumns\u001b[49m\u001b[38;5;241;43m.\u001b[39;49m\u001b[43mget_loc\u001b[49m\u001b[43m(\u001b[49m\u001b[43mkey\u001b[49m\u001b[43m)\u001b[49m\n\u001b[1;32m   4103\u001b[0m \u001b[38;5;28;01mif\u001b[39;00m is_integer(indexer):\n\u001b[1;32m   4104\u001b[0m     indexer \u001b[38;5;241m=\u001b[39m [indexer]\n",
      "File \u001b[0;32m~/miniforge3/envs/brendan/lib/python3.12/site-packages/pandas/core/indexes/base.py:3812\u001b[0m, in \u001b[0;36mIndex.get_loc\u001b[0;34m(self, key)\u001b[0m\n\u001b[1;32m   3807\u001b[0m     \u001b[38;5;28;01mif\u001b[39;00m \u001b[38;5;28misinstance\u001b[39m(casted_key, \u001b[38;5;28mslice\u001b[39m) \u001b[38;5;129;01mor\u001b[39;00m (\n\u001b[1;32m   3808\u001b[0m         \u001b[38;5;28misinstance\u001b[39m(casted_key, abc\u001b[38;5;241m.\u001b[39mIterable)\n\u001b[1;32m   3809\u001b[0m         \u001b[38;5;129;01mand\u001b[39;00m \u001b[38;5;28many\u001b[39m(\u001b[38;5;28misinstance\u001b[39m(x, \u001b[38;5;28mslice\u001b[39m) \u001b[38;5;28;01mfor\u001b[39;00m x \u001b[38;5;129;01min\u001b[39;00m casted_key)\n\u001b[1;32m   3810\u001b[0m     ):\n\u001b[1;32m   3811\u001b[0m         \u001b[38;5;28;01mraise\u001b[39;00m InvalidIndexError(key)\n\u001b[0;32m-> 3812\u001b[0m     \u001b[38;5;28;01mraise\u001b[39;00m \u001b[38;5;167;01mKeyError\u001b[39;00m(key) \u001b[38;5;28;01mfrom\u001b[39;00m\u001b[38;5;250m \u001b[39m\u001b[38;5;21;01merr\u001b[39;00m\n\u001b[1;32m   3813\u001b[0m \u001b[38;5;28;01mexcept\u001b[39;00m \u001b[38;5;167;01mTypeError\u001b[39;00m:\n\u001b[1;32m   3814\u001b[0m     \u001b[38;5;66;03m# If we have a listlike key, _check_indexing_error will raise\u001b[39;00m\n\u001b[1;32m   3815\u001b[0m     \u001b[38;5;66;03m#  InvalidIndexError. Otherwise we fall through and re-raise\u001b[39;00m\n\u001b[1;32m   3816\u001b[0m     \u001b[38;5;66;03m#  the TypeError.\u001b[39;00m\n\u001b[1;32m   3817\u001b[0m     \u001b[38;5;28mself\u001b[39m\u001b[38;5;241m.\u001b[39m_check_indexing_error(key)\n",
      "\u001b[0;31mKeyError\u001b[0m: 'Mutant'"
     ]
    }
   ],
   "source": [
    "escape_df = pd.read_csv(\n",
    "    \"../../results/filtered_data/antibody_escape/combined/all_antibodies_escape_filtered.csv\"\n",
    ")\n",
    "ic50 = pd.read_csv(\"../../data/experimental_data/relative_validation_IC50s.csv\")\n",
    "\n",
    "ic50['wildtype'] = ic50['Mutant'].str[0]\n",
    "ic50[\"site\"] = ic50[\"Mutant\"].str.extract(r\"([0-9]+)\").astype(int)\n",
    "ic50['mutant'] = ic50['Mutant'].str[-1]\n",
    "\n",
    "merged_df = pd.merge(\n",
    "    ic50,\n",
    "    escape_df,\n",
    "    how='left',\n",
    "    on=['antibody','site', 'wildtype', 'mutant', 'site'],\n",
    ")\n",
    "display(merged_df)"
   ]
  },
  {
   "cell_type": "code",
   "execution_count": null,
   "id": "2c906712",
   "metadata": {},
   "outputs": [],
   "source": [
    "merged_df[\"relative_ic50\"] = (merged_df[\"IC50_mutant\"] / merged_df[\"IC50_unmutated\"]).round(1)\n",
    "\n",
    "# Calculate log2 relative ic50 values for each mutation relative to mean unmutated value\n",
    "merged_df[\"log2_relative_ic50\"] = np.log2(merged_df[\"relative_ic50\"]).round(1)"
   ]
  },
  {
   "cell_type": "code",
   "execution_count": null,
   "id": "c1cc724f",
   "metadata": {},
   "outputs": [],
   "source": [
    "antibody_order = [\n",
    "    \"12B2\",\n",
    "    \"2D3\",\n",
    "    \"4H3\",\n",
    "    \"1A9\",\n",
    "    \"1F2\",\n",
    "    \"2B12\",\n",
    "]\n",
    "\n",
    "customColors = [\n",
    "    \"#5778a4\",\n",
    "    \"#e49444\",\n",
    "    \"#d1615d\",\n",
    "    \"#85b6b2\",\n",
    "    \"#6a9f58\",\n",
    "    \"#e7ca60\",\n",
    "    \"#a87c9f\",\n",
    "    \"#f1a2a9\",\n",
    "    \"#967662\",\n",
    "    \"#b8b0ac\",\n",
    "]"
   ]
  },
  {
   "cell_type": "code",
   "execution_count": null,
   "id": "da3ff7b2",
   "metadata": {},
   "outputs": [],
   "source": [
    "# now lets load in the icXX estimates\n",
    "#antibodies = merged_df['antibody'].unique().tolist()\n",
    "antibodies = [\"12B2\", \"2D3\", \"4H3\", \"1A9\", \"1F2\", \"2B12\"]\n",
    "#print(antibodies)\n",
    "\n",
    "empty = []\n",
    "for antibody in antibodies:\n",
    "    tmp_df = pd.read_csv(f\"../../../results/antibody_escape/averages/{antibody}_mut_icXX.csv\").assign(antibody=antibody)\n",
    "    empty.append(tmp_df)\n",
    "\n",
    "merged_icXX = pd.concat(empty)\n",
    "#display(merged_icXX)\n"
   ]
  },
  {
   "cell_type": "code",
   "execution_count": null,
   "id": "45a930df",
   "metadata": {},
   "outputs": [],
   "source": [
    "merged_ic_df = pd.merge(\n",
    "    ic50,\n",
    "    merged_icXX,\n",
    "    how=\"left\",\n",
    "    on=[\"antibody\", \"site\", \"wildtype\", \"mutant\"],\n",
    ")\n",
    "\n",
    "merged_ic_df[\"relative_ic50\"] = (\n",
    "    merged_ic_df[\"IC50_mutant\"] / merged_ic_df[\"IC50_unmutated\"]\n",
    ").round(1)\n",
    "\n",
    "# Calculate log2 relative ic50 values for each mutation relative to mean unmutated value\n",
    "merged_ic_df[\"log2_relative_ic50\"] = np.log2(merged_ic_df[\"relative_ic50\"]).round(1)"
   ]
  },
  {
   "cell_type": "code",
   "execution_count": null,
   "id": "cb930057",
   "metadata": {},
   "outputs": [],
   "source": [
    "merged_ic_df = pd.read_csv('../../data/experimental_data/icXX_merged.csv')\n",
    "#display(merged_ic_df)\n",
    "\n",
    "chart = (\n",
    "    alt.Chart(merged_df)\n",
    "    .mark_point(size=120, opacity=1, filled=True, stroke=\"black\", strokeWidth=1)\n",
    "    .encode(\n",
    "        x=alt.X(\n",
    "            \"escape_mean\",\n",
    "            title=\"Escape by DMS\",\n",
    "            scale=alt.Scale(domain=[0, 10]),\n",
    "        ),\n",
    "        y=alt.Y(\"log2_relative_ic50\", title=\"Relative IC50\"),\n",
    "        color=alt.Color(\n",
    "            \"antibody\",\n",
    "            scale=alt.Scale(domain=antibody_order, range=customColors),\n",
    "        ),\n",
    "        shape=alt.Shape(\n",
    "            \"threshold\",\n",
    "            # scale=alt.Scale(domain=[\"True\", \"False\"], range=[\"triangle\", \"circle\"]),\n",
    "        ),\n",
    "    )\n",
    "    .properties(width=200, height=200)\n",
    ")\n",
    "#chart.display()\n",
    "\n",
    "ic_chart = (\n",
    "    alt.Chart(merged_ic_df)\n",
    "    .mark_point(size=120, opacity=1, filled=True, stroke='black', strokeWidth=1)\n",
    "    .encode(\n",
    "        x=alt.X(\"dms_log2_ic50\", title=\"Change in IC50 by DMS\", scale=alt.Scale(domain=[0, 10])),\n",
    "        y=alt.Y(\"log2_relative_ic50\", title=\"Relative IC50\"),\n",
    "        color=alt.Color(\n",
    "            \"antibody\",\n",
    "            scale=alt.Scale(domain=antibody_order, range=customColors),\n",
    "        ),\n",
    "        shape=alt.Shape(\n",
    "            \"threshold\",\n",
    "            #scale=alt.Scale(domain=[\"True\", \"False\"], range=[\"triangle\", \"circle\"]),\n",
    "        ),\n",
    "    )\n",
    "    .properties(width=200, height=200)\n",
    ")\n",
    "#ic_chart.display()\n",
    "\n",
    "combined_chart = alt.hconcat(chart, ic_chart).resolve_scale(color='shared', x='shared', y='shared')\n",
    "combined_chart.display()\n",
    "#combined_chart.save(\"../../icXX_validation.png\", ppi=300)\n",
    "#combined_chart.save(\"../../icXX_validation.svg\")\n"
   ]
  },
  {
   "cell_type": "code",
   "execution_count": null,
   "id": "c26c6a26",
   "metadata": {},
   "outputs": [],
   "source": []
  }
 ],
 "metadata": {
  "kernelspec": {
   "display_name": "brendan",
   "language": "python",
   "name": "python3"
  },
  "language_info": {
   "codemirror_mode": {
    "name": "ipython",
    "version": 3
   },
   "file_extension": ".py",
   "mimetype": "text/x-python",
   "name": "python",
   "nbconvert_exporter": "python",
   "pygments_lexer": "ipython3",
   "version": "3.12.8"
  }
 },
 "nbformat": 4,
 "nbformat_minor": 5
}
