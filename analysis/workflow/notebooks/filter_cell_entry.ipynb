{
 "cells": [
  {
   "cell_type": "markdown",
   "metadata": {},
   "source": [
    "### Filter cell entry DMS data\n",
    "Read in data and filter based on parameters defined in the config file and save to csv files."
   ]
  },
  {
   "cell_type": "code",
   "execution_count": null,
   "metadata": {},
   "outputs": [],
   "source": [
    "import pandas as pd"
   ]
  },
  {
   "cell_type": "code",
   "execution_count": null,
   "metadata": {},
   "outputs": [],
   "source": [
    "# Input data\n",
    "entry_df_path = snakemake.input.entry_df\n",
    "\n",
    "# Output data\n",
    "entry_effects_filtered_path = snakemake.output.entry_effects_filtered\n",
    "entry_effects_filtered_mean_path = snakemake.output.entry_effects_filtered_mean\n",
    "\n",
    "# Parameters\n",
    "TIMES_SEEN_ENTRY = snakemake.params.times_seen_entry\n",
    "ENTRY_STD_DEV = snakemake.params.entry_std_dev"
   ]
  },
  {
   "cell_type": "code",
   "execution_count": null,
   "metadata": {},
   "outputs": [],
   "source": [
    "# read in data\n",
    "func_data = pd.read_csv(entry_df_path)\n",
    "\n",
    "# Filter data\n",
    "# 1. seen at least TIMES_SEEN_ENTRY times\n",
    "# 2. standard deviation of effect less than ENTRY_STD_DEV\n",
    "# 3. mutant is not \"*\" or \"-\"\n",
    "func_data_filtered = func_data[\n",
    "    (func_data[\"times_seen\"] >= TIMES_SEEN_ENTRY)\n",
    "    & (func_data[\"effect_std\"] <= ENTRY_STD_DEV)\n",
    "    & (func_data[\"mutant\"] != \"*\")\n",
    "    & (func_data[\"mutant\"] != \"-\")\n",
    "]\n",
    "\n",
    "# Calculate mean effect and stddev per site\n",
    "func_data_filtered_mean = func_data_filtered.groupby([\"site\"]).agg(\n",
    "    effect=(\"effect\", \"mean\"),\n",
    "    wildtype=(\"wildtype\", \"first\"),\n",
    "    effect_std=(\"effect_std\", \"mean\"),\n",
    "    site_mut_std=('effect', 'std')\n",
    ").round(2).reset_index()\n",
    "\n",
    "# Save filtered data\n",
    "func_data_filtered.to_csv(entry_effects_filtered_path, index=False)\n",
    "func_data_filtered_mean.to_csv(entry_effects_filtered_mean_path, index=False)"
   ]
  }
 ],
 "metadata": {
  "kernelspec": {
   "display_name": "brendan",
   "language": "python",
   "name": "python3"
  },
  "language_info": {
   "name": "python",
   "version": "3.12.8"
  }
 },
 "nbformat": 4,
 "nbformat_minor": 2
}
