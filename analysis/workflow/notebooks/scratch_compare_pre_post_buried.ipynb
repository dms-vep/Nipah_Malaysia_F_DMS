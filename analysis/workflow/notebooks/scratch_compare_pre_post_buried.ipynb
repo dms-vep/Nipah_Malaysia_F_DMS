{
 "cells": [
  {
   "cell_type": "code",
   "execution_count": null,
   "id": "105e692b",
   "metadata": {},
   "outputs": [],
   "source": [
    "import pandas as pd\n",
    "import altair as alt\n",
    "import httpimport\n",
    "\n",
    "_ = alt.data_transformers.disable_max_rows()\n"
   ]
  },
  {
   "cell_type": "code",
   "execution_count": null,
   "id": "ac4effe2",
   "metadata": {},
   "outputs": [],
   "source": [
    "# Import custom altair theme from remote github using httpimport module\n",
    "def import_theme_new():\n",
    "    with httpimport.github_repo(\"bblarsen-sci\", \"altair_themes\", \"main\"):\n",
    "        import main_theme\n",
    "\n",
    "        @alt.theme.register(\"custom_theme\", enable=True)\n",
    "        def custom_theme():\n",
    "            return main_theme.main_theme()\n",
    "\n",
    "\n",
    "import_theme_new()\n"
   ]
  },
  {
   "cell_type": "code",
   "execution_count": null,
   "id": "9c34a93e",
   "metadata": {},
   "outputs": [],
   "source": [
    "mean_effect_df = pd.read_csv(\n",
    "    \"../../results/filtered_data/cell_entry/Nipah_F_func_effects_filtered_mean.csv\"\n",
    ")\n",
    "\n",
    "pre_df = (\n",
    "    pd.read_csv(\"../../results/residue_accessibility/5evm_accessibility.csv\")\n",
    "    .drop(columns=[\"accessibility_A\", \"accessibility_B\", \"accessibility_C\"])\n",
    "    .rename(columns={\"mean_accessibility\": \"accessibility_pre\"})\n",
    ")\n",
    "post_df = (\n",
    "    pd.read_csv(\"../../results/residue_accessibility/NiV_F_postfusion_accessibility.csv\")\n",
    "    .drop(columns=[\"accessibility_A\", \"accessibility_B\", \"accessibility_C\"])\n",
    "    .rename(columns={\"mean_accessibility\": \"accessibility_post\"})\n",
    ")"
   ]
  },
  {
   "cell_type": "code",
   "execution_count": null,
   "id": "ec655c75",
   "metadata": {},
   "outputs": [],
   "source": [
    "merged_df = pd.merge(pre_df, post_df, on='site', how='inner')\n",
    "\n",
    "\n",
    "merged_acc_effect_df = pd.merge(merged_df, mean_effect_df, on='site', how='inner')\n",
    "display(merged_acc_effect_df)"
   ]
  },
  {
   "cell_type": "code",
   "execution_count": null,
   "id": "d47b199d",
   "metadata": {},
   "outputs": [],
   "source": [
    "\n",
    "tmp_df = merged_acc_effect_df.query(\"accessibility_post > 20 and accessibility_pre < 10 and site != 332 & site != 313 and site != 349 and site != 364 and site != 71 and site != 259\").sort_values('effect')\n",
    "print(tmp_df.sort_values('effect').head(10)['site'].tolist())\n",
    "\n"
   ]
  },
  {
   "cell_type": "code",
   "execution_count": null,
   "id": "e5e1dd2a",
   "metadata": {},
   "outputs": [],
   "source": [
    "melted_df = merged_acc_effect_df.query('accessibility_pre < 5 and accessibility_post > 30').melt(\n",
    "    id_vars=[\"site\", \"effect\"],\n",
    "    value_vars=[\"accessibility_pre\", \"accessibility_post\"],\n",
    "    var_name=\"state\",\n",
    "    value_name=\"accessibility\",\n",
    ")\n",
    "display(melted_df.sort_values('effect').head(20))\n",
    "print(list(melted_df['site'].unique()))\n",
    "\n",
    "line_chart = (\n",
    "    alt.Chart(melted_df)\n",
    "    .mark_line(point=True)\n",
    "    .encode(\n",
    "        x=alt.X(\"state\", title=None, sort=[\"accessibility_pre\", \"accessibility_post\"]),\n",
    "        y=alt.Y(\"accessibility:Q\", title=None),\n",
    "        color=alt.Color(\n",
    "            \"effect:Q\", legend=None, scale=alt.Scale(scheme=\"redblue\", domainMid=0, domain=[-3.5,1])\n",
    "        ),\n",
    "        tooltip=[\"site\", \"state\", \"accessibility\", \"effect\"],\n",
    "    )\n",
    "    .properties(\n",
    "        width=alt.Step(100),\n",
    "        height=200,\n",
    "    )\n",
    ")\n",
    "\n",
    "display(line_chart)\n"
   ]
  },
  {
   "cell_type": "code",
   "execution_count": null,
   "id": "1bbdf395",
   "metadata": {},
   "outputs": [],
   "source": [
    "display(merged_acc_effect_df.head(5))"
   ]
  },
  {
   "cell_type": "code",
   "execution_count": null,
   "id": "6354f650",
   "metadata": {},
   "outputs": [],
   "source": [
    "melted_df = merged_acc_effect_df.melt(\n",
    "    id_vars=[\"site\", \"effect\"],\n",
    "    value_vars=[\"accessibility_pre\", \"accessibility_post\"],\n",
    "    var_name=\"state\",\n",
    "    value_name=\"accessibility\",\n",
    ")\n",
    "display(melted_df)\n",
    "# find matched paris\n",
    "valid_sites = (\n",
    "    melted_df[melted_df[\"state\"] == \"accessibility_pre\"][\"accessibility\"] < 20\n",
    ")\n",
    "valid_site_ids = melted_df.loc[valid_sites[valid_sites].index, \"site\"]\n",
    "print(list(valid_site_ids))\n",
    "filtered_df_test = melted_df[melted_df[\"site\"].isin(valid_site_ids)]\n"
   ]
  },
  {
   "cell_type": "code",
   "execution_count": null,
   "id": "e1e92902",
   "metadata": {},
   "outputs": [],
   "source": [
    "melted_df = merged_acc_effect_df.melt(\n",
    "    id_vars=[\"site\", \"effect\"],\n",
    "    value_vars=[\"accessibility_pre\", \"accessibility_post\"],\n",
    "    var_name=\"state\",\n",
    "    value_name=\"accessibility\",\n",
    ")\n",
    "\n",
    "filtered_df = melted_df[\n",
    "    ((melted_df[\"state\"] == \"accessibility_pre\") & (melted_df[\"accessibility\"] > 30)) |\n",
    "    ((melted_df[\"state\"] == \"accessibility_post\") & (melted_df[\"accessibility\"] > 30))\n",
    "]\n",
    "\n",
    "display(filtered_df)\n",
    "\n",
    "boxplot_chart = (\n",
    "    alt.Chart(filtered_df)\n",
    "    .mark_boxplot(extent=\"min-max\", opacity=1)\n",
    "    .encode(\n",
    "        x=alt.X(\"state\", title=None, sort=[\"accessibility_pre\", \"accessibility_post\"]),\n",
    "        y=alt.Y(\"effect:Q\", title=None),\n",
    "        # color=alt.Color(\"effect:Q\", legend=None),\n",
    "    )\n",
    "    .properties(\n",
    "        width=alt.Step(25),\n",
    "        height=200,\n",
    "    )\n",
    ")\n",
    "\n",
    "display(boxplot_chart)\n",
    "boxplot_chart.save('../../niv_pre_post_effects.svg')\n"
   ]
  },
  {
   "cell_type": "code",
   "execution_count": null,
   "id": "399614ef",
   "metadata": {},
   "outputs": [],
   "source": []
  }
 ],
 "metadata": {
  "kernelspec": {
   "display_name": "brendan",
   "language": "python",
   "name": "python3"
  },
  "language_info": {
   "codemirror_mode": {
    "name": "ipython",
    "version": 3
   },
   "file_extension": ".py",
   "mimetype": "text/x-python",
   "name": "python",
   "nbconvert_exporter": "python",
   "pygments_lexer": "ipython3",
   "version": "3.12.8"
  }
 },
 "nbformat": 4,
 "nbformat_minor": 5
}
