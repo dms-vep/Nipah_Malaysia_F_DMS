{
 "cells": [
  {
   "cell_type": "markdown",
   "metadata": {},
   "source": [
    "### Antibody escape lineplot\n",
    "This notebook reads in filtered antibody escape data and generates a lineplot showing summed escape across the different antibodies. "
   ]
  },
  {
   "cell_type": "code",
   "execution_count": null,
   "metadata": {},
   "outputs": [],
   "source": [
    "import pandas as pd\n",
    "\n",
    "import altair as alt\n",
    "\n",
    "import httpimport\n",
    "\n",
    "_ = alt.data_transformers.disable_max_rows()"
   ]
  },
  {
   "cell_type": "code",
   "execution_count": null,
   "metadata": {},
   "outputs": [],
   "source": [
    "# Import custom altair theme from remote github using httpimport module\n",
    "def import_theme_new():\n",
    "    with httpimport.github_repo(\"bblarsen-sci\", \"altair_themes\", \"main\"):\n",
    "        import main_theme\n",
    "\n",
    "        @alt.theme.register(\"custom_theme\", enable=True)\n",
    "        def custom_theme():\n",
    "            return main_theme.main_theme()\n",
    "\n",
    "\n",
    "import_theme_new()"
   ]
  },
  {
   "cell_type": "code",
   "execution_count": null,
   "metadata": {},
   "outputs": [],
   "source": [
    "antibody_escape_df = pd.read_csv(snakemake.input.escape_df)\n",
    "antibody_order = snakemake.params.antibody_order"
   ]
  },
  {
   "cell_type": "code",
   "execution_count": null,
   "metadata": {},
   "outputs": [],
   "source": [
    "#antibody_escape_df = pd.read_csv('../../results/filtered_data/antibody_escape/combined/all_antibodies_escape_filtered_sum.csv')\n",
    "#antibody_order = [\"12B2\", \"2D3\", \"4H3\", \"1A9\", \"1F2\", \"2B12\"]"
   ]
  },
  {
   "cell_type": "code",
   "execution_count": null,
   "metadata": {},
   "outputs": [],
   "source": [
    "# Define x axis properties\n",
    "x_axis = alt.Axis(\n",
    "    labelAngle=0,\n",
    "    title=\"Site\",\n",
    "    values=[100, 200, 300, 400, 500, 600],\n",
    ")\n",
    "\n",
    "# only show positive escape values\n",
    "antibody_escape_df[\"sum_escape\"] = antibody_escape_df[\"sum_escape\"].clip(lower=0)\n",
    "\n",
    "# Create line plot with points for each antibody\n",
    "empty_charts = []\n",
    "for antibody in antibody_order:\n",
    "    antibody_escape_chart = (\n",
    "        alt.Chart(antibody_escape_df.query('antibody == @antibody'))\n",
    "        .mark_line(\n",
    "            point=alt.OverlayMarkDef(\n",
    "                filled=False, fill=\"white\", size=50, strokeWidth=2, color=\"black\"\n",
    "            ),\n",
    "            interpolate=\"monotone\",\n",
    "            strokeWidth=1,\n",
    "            color=\"#B8B0AC\",\n",
    "        )\n",
    "        .encode(\n",
    "            x=alt.X(\"site:N\", title=\"Site\").axis(x_axis),\n",
    "            y=alt.Y(\"sum_escape:Q\", title=\"Escape\", axis=alt.Axis(tickCount=3)),\n",
    "            tooltip=[\"site\", \"antibody\", \"sum_escape\"],\n",
    "        )\n",
    "        .properties(height=100, width=150, title=antibody)\n",
    "    )\n",
    "    empty_charts.append(antibody_escape_chart)\n",
    "\n",
    "antibody_escape_chart = alt.vconcat(*empty_charts).resolve_scale(y=\"shared\", x=\"shared\")\n",
    "antibody_escape_chart.display()\n",
    "#antibody_escape_chart.save('../../results/figures/antibody_escape/antibody_escape_lineplot.svg')"
   ]
  },
  {
   "cell_type": "code",
   "execution_count": null,
   "metadata": {},
   "outputs": [],
   "source": [
    "antibody_escape_chart.save(snakemake.output.antibody_escape_line_plot_svg)\n",
    "antibody_escape_chart.save(snakemake.output.antibody_escape_line_plot_png, ppi=300)\n",
    "antibody_escape_chart.save(snakemake.output.antibody_escape_line_plot_html)\n"
   ]
  }
 ],
 "metadata": {
  "kernelspec": {
   "display_name": "brendan",
   "language": "python",
   "name": "python3"
  },
  "language_info": {
   "codemirror_mode": {
    "name": "ipython",
    "version": 3
   },
   "file_extension": ".py",
   "mimetype": "text/x-python",
   "name": "python",
   "nbconvert_exporter": "python",
   "pygments_lexer": "ipython3",
   "version": "3.12.8"
  }
 },
 "nbformat": 4,
 "nbformat_minor": 2
}
