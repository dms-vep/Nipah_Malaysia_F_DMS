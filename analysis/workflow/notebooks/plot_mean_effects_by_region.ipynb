{
 "cells": [
  {
   "cell_type": "markdown",
   "metadata": {},
   "source": [
    "### Plot mean effects of mutations by region\n",
    "Plot the effects of mutations in different regions of F"
   ]
  },
  {
   "cell_type": "code",
   "execution_count": null,
   "metadata": {},
   "outputs": [],
   "source": [
    "import pandas as pd\n",
    "import altair as alt\n",
    "import httpimport\n",
    "\n",
    "_ = alt.data_transformers.disable_max_rows()"
   ]
  },
  {
   "cell_type": "code",
   "execution_count": null,
   "metadata": {},
   "outputs": [],
   "source": [
    "# Import custom altair theme from remote github using httpimport module\n",
    "def import_theme_new():\n",
    "    with httpimport.github_repo(\"bblarsen-sci\", \"altair_themes\", \"main\"):\n",
    "        import main_theme\n",
    "\n",
    "        @alt.theme.register(\"custom_theme\", enable=True)\n",
    "        def custom_theme():\n",
    "            return main_theme.main_theme()\n",
    "\n",
    "\n",
    "import_theme_new()"
   ]
  },
  {
   "cell_type": "code",
   "execution_count": null,
   "metadata": {},
   "outputs": [],
   "source": [
    "# read in data\n",
    "#mean_effects = pd.read_csv(\"../../results/filtered_data/cell_entry/Nipah_F_func_effects_filtered_mean.csv\")\n",
    "\n",
    "# for snakemake\n",
    "mean_effects = pd.read_csv(snakemake.input.entry_df)"
   ]
  },
  {
   "cell_type": "code",
   "execution_count": null,
   "metadata": {},
   "outputs": [],
   "source": [
    "# function to assign amino acid type\n",
    "def assign_aa_type(site_num):\n",
    "    if site_num in [\"D\", \"E\"]:\n",
    "        return \"Negative\"\n",
    "    elif site_num in [\"K\", \"R\", \"H\"]:\n",
    "        return \"Positive\"\n",
    "    elif site_num in [\"Q\", \"N\", \"S\", \"T\"]:\n",
    "        return \"Hydrophilic\"\n",
    "    elif site_num in [\"A\", \"I\", \"L\", \"M\", \"V\"]:\n",
    "        return \"Hydrophobic\"\n",
    "    elif site_num in [\"Y\", \"W\", \"F\"]:\n",
    "        return \"Aromatic\"\n",
    "    elif site_num in [\"C\", \"G\", \"P\"]:\n",
    "        return \"Special\"\n",
    "    else:\n",
    "        return \"Other\""
   ]
  },
  {
   "cell_type": "code",
   "execution_count": null,
   "metadata": {},
   "outputs": [],
   "source": [
    "# Assign regions based on site numbers\n",
    "def assign_region(site_num):\n",
    "    if 75 <= site_num <= 99:\n",
    "        return \"HRC\"\n",
    "    elif 100 <= site_num <= 109:\n",
    "        return \"Cleavage\"\n",
    "    elif 110 <= site_num <= 129:\n",
    "        return \"Fusion Peptide\"\n",
    "    elif 130 <= site_num <= 181:\n",
    "        return \"HRA\"\n",
    "    elif 182 <= site_num <= 215:\n",
    "        return \"Central helix\"\n",
    "    elif 452 <= site_num <= 481:\n",
    "        return \"HRB\"\n",
    "    else:\n",
    "        return \"Other\"\n",
    "\n",
    "# Apply the region assignment to the mean_effects DataFrame\n",
    "mean_effects[\"region\"] = mean_effects[\"site\"].apply(assign_region)\n",
    "mean_effects[\"wildtype_type\"] = mean_effects[\"wildtype\"].apply(assign_aa_type)\n",
    "\n",
    "display(mean_effects)\n"
   ]
  },
  {
   "cell_type": "markdown",
   "metadata": {},
   "source": [
    "### Plotting"
   ]
  },
  {
   "cell_type": "code",
   "execution_count": null,
   "metadata": {},
   "outputs": [],
   "source": [
    "# Define custom color scale for regions\n",
    "custom_scale = alt.Scale(\n",
    "    domain=[\"Cleavage\", \"Fusion Peptide\", \"HRA\", \"HRB\", \"HRC\", \"Central helix\", \"Other\"],\n",
    "    range=[\"#5778a4\", \"#e49444\", \"#d1615d\", \"#85b6b2\", \"#6a9f58\", \"#a87c9f\", \"#b8b0ac\"],\n",
    ")\n",
    "region_order = [\"Cleavage\", \"Fusion Peptide\", \"HRA\", \"HRB\", \"HRC\", \"Central helix\", \"Other\"]"
   ]
  },
  {
   "cell_type": "code",
   "execution_count": null,
   "metadata": {},
   "outputs": [],
   "source": [
    "# make a boxplot and scatter plot of mean effects by protein domain\n",
    "boxplot_chart = (\n",
    "    alt.Chart(mean_effects)\n",
    "    .mark_boxplot(extent=\"min-max\", opacity=1)\n",
    "    .encode(\n",
    "        x=alt.X(\"region\", title=None, sort=region_order),\n",
    "        y=alt.Y(\"effect:Q\", title=None),\n",
    "        color=alt.Color(\"region:N\", legend=None, scale=custom_scale),\n",
    "    )\n",
    "    .properties(\n",
    "        width=alt.Step(25),\n",
    "        height=200,\n",
    "    )\n",
    ")\n",
    "\n",
    "display(boxplot_chart)\n",
    "# Save the boxplot\n",
    "boxplot_chart.save(snakemake.output.mean_effects_boxplot_png, ppi=300)\n",
    "boxplot_chart.save(snakemake.output.mean_effects_boxplot_svg)"
   ]
  },
  {
   "cell_type": "markdown",
   "metadata": {},
   "source": [
    "### Make a chart showing the mean effects of mutations by site"
   ]
  },
  {
   "cell_type": "code",
   "execution_count": null,
   "metadata": {},
   "outputs": [],
   "source": [
    "# plot bar chart showing the mean effect of mutations on cell entry across the protein\n",
    "mean_protein_effects_by_domain = (\n",
    "    alt.Chart(mean_effects)\n",
    "    .mark_bar()\n",
    "    .encode(\n",
    "        x=alt.X(\n",
    "            \"site:N\",\n",
    "            title=\"Site\",\n",
    "            axis=alt.Axis(\n",
    "                labelAngle=0,\n",
    "                values=[100, 200, 300, 400],\n",
    "                # tickCount=11,\n",
    "                # grid=True,\n",
    "            ),\n",
    "        ),\n",
    "        y=alt.Y(\"effect:Q\", title=[\"Mean Effect of\", \"Mutations on Cell Entry\"]),\n",
    "        color=alt.Color(\"region\", title=\"Protein Domain\", scale=custom_scale),\n",
    "        tooltip=[\"site\", \"effect\", \"region\"],\n",
    "    )\n",
    "    .properties(\n",
    "        width=alt.Step(2),\n",
    "        height=150,\n",
    "    )\n",
    ")\n",
    "\n",
    "display(mean_protein_effects_by_domain)\n",
    "\n",
    "\n",
    "# save\n",
    "mean_protein_effects_by_domain.save(snakemake.output.mean_effects_site_bar_png, ppi=300)\n",
    "mean_protein_effects_by_domain.save(snakemake.output.mean_effects_site_bar_svg)\n"
   ]
  },
  {
   "cell_type": "markdown",
   "metadata": {},
   "source": [
    "### Now plot ranked effects of mutations by region"
   ]
  },
  {
   "cell_type": "code",
   "execution_count": null,
   "metadata": {},
   "outputs": [],
   "source": [
    "# add column to make labels that contain wildtype residue for plotting\n",
    "mean_effects[\"wildtype_site\"] = mean_effects[\"wildtype\"] + mean_effects[\"site\"].astype(\n",
    "    str\n",
    ")"
   ]
  },
  {
   "cell_type": "code",
   "execution_count": null,
   "metadata": {},
   "outputs": [],
   "source": [
    "# function to make barplots of mean entry effects for specified regions\n",
    "def mean_entry_ranked_barplots(df, region_name):\n",
    "    subset_df = df[df[\"region\"].isin(region_name)]\n",
    "\n",
    "    barchart = (\n",
    "        alt.Chart(subset_df)\n",
    "        .mark_bar()\n",
    "        .encode(\n",
    "            y=alt.Y(\"wildtype_site:N\", sort=\"-x\", title=\"Site\"),\n",
    "            x=alt.X(\"effect\", title=\"Mean entry score of mutations\"),\n",
    "            color=alt.Color(\n",
    "                \"wildtype_type:N\",\n",
    "                title=\"Unmutated AA type\",\n",
    "                # scale=alt.Scale(scheme=\"oranges\", domain=[0, 1.5]),\n",
    "            ),\n",
    "        )\n",
    "    ).properties(width=100, height=alt.Step(10))\n",
    "    return barchart\n",
    "\n",
    "# function to make barplots of mean entry effects for specified sites\n",
    "def mean_entry_ranked_barplots_by_site(df, site_list):\n",
    "    subset_df = df[df[\"site\"].isin(site_list)]\n",
    "\n",
    "    barchart = (\n",
    "        alt.Chart(subset_df)\n",
    "        .mark_bar()\n",
    "        .encode(\n",
    "            y=alt.Y(\"wildtype_site:N\", sort=\"-x\", title=\"Site\"),\n",
    "            x=alt.X(\"effect\", title=\"Mean entry score of mutations\"),\n",
    "            color=alt.Color(\n",
    "                \"wildtype_type:N\",\n",
    "                title=\"Unmutated AA type\",\n",
    "                # scale=alt.Scale(scheme=\"oranges\", domain=[0, 1.5]),\n",
    "            ),\n",
    "        )\n",
    "    ).properties(width=100, height=alt.Step(10))\n",
    "    return barchart\n"
   ]
  },
  {
   "cell_type": "code",
   "execution_count": null,
   "metadata": {},
   "outputs": [],
   "source": [
    "# make barplot for cleavage site mutations\n",
    "cleavage_bar = mean_entry_ranked_barplots(mean_effects, [\"Cleavage\"])\n",
    "\n",
    "cleavage_bar.save(snakemake.output.cleavage_bar_png, ppi=300)\n",
    "cleavage_bar.save(snakemake.output.cleavage_bar_svg)\n"
   ]
  },
  {
   "cell_type": "code",
   "execution_count": null,
   "metadata": {},
   "outputs": [],
   "source": [
    "# make barplot for fusion peptide mutations\n",
    "fusion_bar = mean_entry_ranked_barplots(mean_effects, [\"Fusion Peptide\"])\n",
    "fusion_bar.display()\n",
    "fusion_bar.save(snakemake.output.fusion_bar_png, ppi=300)\n",
    "fusion_bar.save(snakemake.output.fusion_bar_svg)"
   ]
  },
  {
   "cell_type": "code",
   "execution_count": null,
   "metadata": {},
   "outputs": [],
   "source": [
    "# make barplots for HRA region split into two plots for better visualization\n",
    "HRA_top_bar = mean_entry_ranked_barplots_by_site(mean_effects, list(range(129,182)))\n",
    "HRA_top_bar.save(snakemake.output.HRA_top_bar_png, ppi=300)\n",
    "HRA_top_bar.save(snakemake.output.HRA_top_bar_svg)\n",
    "\n",
    "HRA_bot_bar = mean_entry_ranked_barplots_by_site(mean_effects, list(range(182,216)))\n",
    "HRA_bot_bar.save(snakemake.output.HRA_bot_bar_png, ppi=300)\n",
    "HRA_bot_bar.save(snakemake.output.HRA_bot_bar_svg)"
   ]
  },
  {
   "cell_type": "code",
   "execution_count": null,
   "metadata": {},
   "outputs": [],
   "source": [
    "# make barplot for HRB mutations\n",
    "HRB_bar = mean_entry_ranked_barplots(mean_effects, [\"HRB\"])\n",
    "HRB_bar.display()\n",
    "HRB_bar.save(snakemake.output.HRB_bar_png, ppi=300)\n",
    "HRB_bar.save(snakemake.output.HRB_bar_svg)"
   ]
  },
  {
   "cell_type": "code",
   "execution_count": null,
   "metadata": {},
   "outputs": [],
   "source": [
    "# make barplot for HRC mutations\n",
    "HRC_bar = mean_entry_ranked_barplots(mean_effects, [\"HRC\"])\n",
    "HRC_bar.display()\n",
    "HRC_bar.save(snakemake.output.HRC_bar_png, ppi=300)\n",
    "HRC_bar.save(snakemake.output.HRC_bar_svg)"
   ]
  }
 ],
 "metadata": {
  "kernelspec": {
   "display_name": "brendan",
   "language": "python",
   "name": "python3"
  },
  "language_info": {
   "codemirror_mode": {
    "name": "ipython",
    "version": 3
   },
   "file_extension": ".py",
   "mimetype": "text/x-python",
   "name": "python",
   "nbconvert_exporter": "python",
   "pygments_lexer": "ipython3",
   "version": "3.12.8"
  }
 },
 "nbformat": 4,
 "nbformat_minor": 2
}
