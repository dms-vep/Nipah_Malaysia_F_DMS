{
 "cells": [
  {
   "cell_type": "markdown",
   "metadata": {},
   "source": [
    "### Mutation distribution\n",
    "Read in variants dataframe from dms-vep-pipeline-3 and plot distribution of number of codon substitutions per library and number of unique variants per library."
   ]
  },
  {
   "cell_type": "code",
   "execution_count": 1,
   "metadata": {},
   "outputs": [],
   "source": [
    "import pandas as pd\n",
    "\n",
    "import altair as alt\n",
    "\n",
    "import httpimport"
   ]
  },
  {
   "cell_type": "code",
   "execution_count": 2,
   "metadata": {},
   "outputs": [],
   "source": [
    "# Import custom altair theme from remote github using httpimport module\n",
    "def import_theme_new():\n",
    "    with httpimport.github_repo(\"bblarsen-sci\", \"altair_themes\", \"main\"):\n",
    "        import main_theme\n",
    "\n",
    "        @alt.theme.register(\"custom_theme\", enable=True)\n",
    "        def custom_theme():\n",
    "            return main_theme.main_theme()\n",
    "\n",
    "\n",
    "import_theme_new()"
   ]
  },
  {
   "cell_type": "code",
   "execution_count": null,
   "metadata": {},
   "outputs": [],
   "source": [
    "# Read in variants dataframe and filter out standard neutralization variants\n",
    "variants_df = pd.read_csv(snakemake.input.variants_df)\n",
    "variants_df = variants_df.query('target != \"neut_standard\"')\n",
    "display(variants_df)"
   ]
  },
  {
   "cell_type": "code",
   "execution_count": null,
   "metadata": {},
   "outputs": [],
   "source": [
    "# Show distribution of number of codon substitutions per library\n",
    "counts = variants_df.groupby(['library', 'n_codon_substitutions'])['target'].count().reset_index()\n",
    "display(counts)\n",
    "\n",
    "# Show number of unique variants per library\n",
    "n_variants = variants_df.groupby(['library'])['barcode'].count().reset_index()\n",
    "display(n_variants)"
   ]
  },
  {
   "cell_type": "code",
   "execution_count": null,
   "metadata": {},
   "outputs": [],
   "source": [
    "# Show distribution of number of codon substitutions per library\n",
    "calculations = []\n",
    "for library in counts['library'].unique():\n",
    "    total = counts.query('library == @library')['target'].sum()\n",
    "    for n_muts in [0,1,2,3,4,5]:\n",
    "        n = counts.query('library == @library and n_codon_substitutions == @n_muts')['target'].values[0]\n",
    "        print(f\"Fraction of {n_muts} mutations in {library}: {n/total:.1%}\")\n",
    "    print(f'Total variants in {library}: {total}')"
   ]
  },
  {
   "cell_type": "code",
   "execution_count": null,
   "metadata": {},
   "outputs": [],
   "source": [
    "# Create Altair chart showing distribution of number of codon substitutions per library\n",
    "mutation_distribution_chart = (\n",
    "    alt.Chart(counts)\n",
    "    .mark_bar()\n",
    "    .encode(\n",
    "        x=alt.X(\n",
    "            \"n_codon_substitutions:N\",\n",
    "            title=[\"Number of mutations\"],\n",
    "            scale=alt.Scale(domain=[0, 1, 2, 3, 4]),\n",
    "        ),\n",
    "        y=alt.Y(\"target:Q\", title=\"Number of variants\").stack(None),\n",
    "        color=alt.Color(\"library:N\", title=\"Library\"),\n",
    "        xOffset=\"library:N\",\n",
    "    )\n",
    "    .properties(\n",
    "        width=alt.Step(10),\n",
    "        height=200,\n",
    "    )\n",
    ")\n",
    "\n",
    "mutation_distribution_chart.save(snakemake.output.chart_png, ppi=300)\n",
    "mutation_distribution_chart.save(snakemake.output.chart_svg)"
   ]
  },
  {
   "cell_type": "code",
   "execution_count": null,
   "metadata": {},
   "outputs": [],
   "source": [
    "# Create Altair chart showing number of unique barcodes per library\n",
    "plot_number_barcodes = (\n",
    "    alt.Chart(n_variants)\n",
    "    .mark_bar(fill=\"#b8b0ac\")\n",
    "    .encode(\n",
    "        x=alt.X(\"library:N\", title=\"Library\"),\n",
    "        y=alt.Y(\"barcode:Q\", title=\"Number of Barcodes\"),\n",
    "    )\n",
    "    .properties(\n",
    "        width=alt.Step(10),\n",
    "        height=200,\n",
    "    )\n",
    ")\n",
    "\n",
    "plot_number_barcodes.save(snakemake.output.barcodes_png, ppi=300)\n",
    "plot_number_barcodes.save(snakemake.output.barcodes_svg)\n"
   ]
  }
 ],
 "metadata": {
  "kernelspec": {
   "display_name": "brendan",
   "language": "python",
   "name": "python3"
  },
  "language_info": {
   "codemirror_mode": {
    "name": "ipython",
    "version": 3
   },
   "file_extension": ".py",
   "mimetype": "text/x-python",
   "name": "python",
   "nbconvert_exporter": "python",
   "pygments_lexer": "ipython3",
   "version": "3.12.8"
  }
 },
 "nbformat": 4,
 "nbformat_minor": 2
}
