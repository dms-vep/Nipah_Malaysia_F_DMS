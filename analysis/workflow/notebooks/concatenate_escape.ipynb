{
 "cells": [
  {
   "cell_type": "markdown",
   "metadata": {},
   "source": [
    "### Concatenate Escape\n",
    "This notebook reads in escape files and concatenates them into a single file."
   ]
  },
  {
   "cell_type": "code",
   "execution_count": null,
   "metadata": {},
   "outputs": [],
   "source": [
    "import pandas as pd\n",
    "import os"
   ]
  },
  {
   "cell_type": "code",
   "execution_count": null,
   "metadata": {},
   "outputs": [],
   "source": [
    "# Create empty list to store dataframes\n",
    "dfs = []\n",
    "\n",
    "# Loop through each input file and read it\n",
    "for file_path in snakemake.input.escape_files:\n",
    "    # Read the CSV\n",
    "    df = pd.read_csv(file_path)\n",
    "\n",
    "    # Add a column indicating which antibody this data is from\n",
    "    antibody_name = os.path.basename(file_path).split(\"_escape\")[0]\n",
    "    df[\"antibody\"] = antibody_name\n",
    "\n",
    "    # Append to list of dataframes\n",
    "    dfs.append(df)\n",
    "\n",
    "# Concatenate all dataframes\n",
    "combined_df = pd.concat(dfs, ignore_index=True)\n",
    "\n",
    "# Only save certain columns\n",
    "combined_df = combined_df[\n",
    "    [\n",
    "        \"antibody\",\n",
    "        \"site\",\n",
    "        \"wildtype\",\n",
    "        \"mutant\",\n",
    "        \"escape_mean\",\n",
    "        \"escape_std\",\n",
    "        \"times_seen_ab\",\n",
    "        \"effect\",\n",
    "    ]\n",
    "]\n",
    "\n",
    "# Save the combined dataframe\n",
    "combined_df.to_csv(snakemake.output.combined_escape, index=False)"
   ]
  }
 ],
 "metadata": {
  "language_info": {
   "name": "python"
  }
 },
 "nbformat": 4,
 "nbformat_minor": 2
}
