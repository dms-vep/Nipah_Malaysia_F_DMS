{
 "cells": [
  {
   "cell_type": "markdown",
   "id": "aefc579b",
   "metadata": {},
   "source": [
    "### compare distribution of mutation effects on cell entry for F and RBP proteins"
   ]
  },
  {
   "cell_type": "code",
   "execution_count": null,
   "id": "1fa91920",
   "metadata": {},
   "outputs": [],
   "source": [
    "import pandas as pd\n",
    "import altair as alt\n",
    "import httpimport\n",
    "import numpy as np\n",
    "import scipy.stats\n",
    "\n",
    "_ = alt.data_transformers.disable_max_rows()"
   ]
  },
  {
   "cell_type": "code",
   "execution_count": null,
   "id": "d017eb05",
   "metadata": {},
   "outputs": [],
   "source": [
    "# Import custom altair theme from remote github using httpimport module\n",
    "def import_theme_new():\n",
    "    with httpimport.github_repo(\"bblarsen-sci\", \"altair_themes\", \"main\"):\n",
    "        import main_theme\n",
    "\n",
    "        @alt.theme.register(\"custom_theme\", enable=True)\n",
    "        def custom_theme():\n",
    "            return main_theme.main_theme()\n",
    "\n",
    "\n",
    "import_theme_new()"
   ]
  },
  {
   "cell_type": "code",
   "execution_count": null,
   "id": "6b070842",
   "metadata": {},
   "outputs": [],
   "source": [
    "F_df = pd.read_csv('../../../results/func_effects/averages/Nipah-F-CHO-bEFNB3_func_effects.csv').assign(protein='F')\n",
    "RBP_df = pd.read_csv('../../../../../2023/Nipah_Malaysia_RBP_DMS/results/func_effects/averages/CHO_bEFNB3_func_effects.csv').assign(protein='RBP')\n",
    "\n",
    "combined_df = pd.concat([F_df, RBP_df], ignore_index=True)\n",
    "display(combined_df)"
   ]
  },
  {
   "cell_type": "code",
   "execution_count": null,
   "id": "ef90ff1f",
   "metadata": {},
   "outputs": [],
   "source": [
    "#filter\n",
    "filtered_df = combined_df[\n",
    "    (combined_df['mutant'] != '*') &\n",
    "    (combined_df['mutant'] != '-') &\n",
    "    (combined_df['wildtype'] != '*') &\n",
    "    (combined_df['times_seen'] >= 2) &\n",
    "    (combined_df['effect_std'] <= 1) \n",
    "]\n",
    "\n",
    "subset_filter_df = filtered_df[['site','wildtype','mutant','effect','protein']].round(2)\n",
    "display(subset_filter_df)"
   ]
  },
  {
   "cell_type": "code",
   "execution_count": null,
   "id": "0922cfcc",
   "metadata": {},
   "outputs": [],
   "source": [
    "effect_distribution_chart = (\n",
    "    alt.Chart(filtered_df)\n",
    "    .mark_bar(opacity=0.5, binSpacing=1)\n",
    "    .encode(\n",
    "        x=alt.X(\n",
    "            \"effect:Q\",\n",
    "            title=\"Effect\",\n",
    "        ),\n",
    "        y=alt.Y(\"count():Q\", title=\"Count\").stack(None),\n",
    "        color=alt.Color(\n",
    "            \"protein:N\",\n",
    "            title=\"Protein\",\n",
    "        ),\n",
    "    )\n",
    "    .transform_bin(\"effect\", field=\"effect\", bin=alt.Bin(step=0.1))\n",
    ")\n",
    "display(effect_distribution_chart)\n"
   ]
  },
  {
   "cell_type": "code",
   "execution_count": null,
   "id": "fe0f014e",
   "metadata": {},
   "outputs": [],
   "source": [
    "density_chart = alt.Chart(filtered_df).transform_density(\n",
    "        density='effect',\n",
    "        groupby=['protein'],\n",
    "        as_=['effect', 'density'],\n",
    "        resolve='independent',\n",
    "        extent=[-4,1],\n",
    "    ).mark_area(opacity=0.6, stroke='black').encode(\n",
    "        alt.X('effect', title='Effect'),\n",
    "        alt.Y('density:Q', title='Density').stack(None),\n",
    "        alt.Color('protein:N', scale=alt.Scale(domain=['F', 'RBP'], range=['#1f77b4', '#ff7f0e']))\n",
    ")\n",
    "\n",
    "display(density_chart)\n",
    "#density_chart.save('../../results/figures/b2_b3_correlation/RBP_vs_F_effect_density.png',ppi=300)\n",
    "#density_chart.save('../../results/figures/b2_b3_correlation/RBP_vs_F_effect_density.svg')"
   ]
  },
  {
   "cell_type": "code",
   "execution_count": null,
   "id": "a85876ab",
   "metadata": {},
   "outputs": [],
   "source": []
  }
 ],
 "metadata": {
  "kernelspec": {
   "display_name": "brendan",
   "language": "python",
   "name": "python3"
  },
  "language_info": {
   "codemirror_mode": {
    "name": "ipython",
    "version": 3
   },
   "file_extension": ".py",
   "mimetype": "text/x-python",
   "name": "python",
   "nbconvert_exporter": "python",
   "pygments_lexer": "ipython3",
   "version": "3.12.8"
  }
 },
 "nbformat": 4,
 "nbformat_minor": 5
}
