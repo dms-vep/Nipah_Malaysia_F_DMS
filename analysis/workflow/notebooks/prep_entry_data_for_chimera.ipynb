{
 "cells": [
  {
   "cell_type": "markdown",
   "metadata": {},
   "source": [
    "### Prep entry data for chimera\n",
    "Reads in the filtered csv of mean effects of mutations at each site and format into a .defattr file for chimera visualization of mutational effects on structure."
   ]
  },
  {
   "cell_type": "code",
   "execution_count": null,
   "metadata": {},
   "outputs": [],
   "source": [
    "import pandas as pd\n",
    "import csv\n",
    "import subprocess"
   ]
  },
  {
   "cell_type": "code",
   "execution_count": null,
   "metadata": {},
   "outputs": [],
   "source": [
    "# prepare data in chimera format\n",
    "def aggregate_entry_mean(infile, name, outfile):\n",
    "    tmp_df = pd.read_csv(infile)\n",
    "    tmp_df = tmp_df.round(3)\n",
    "\n",
    "    # Modify the dataframe to prepend a tab character and format as strings\n",
    "    tmp_df[\"site\"] = tmp_df[\"site\"].astype(str)\n",
    "    tmp_df[\"effect\"] = tmp_df[\"effect\"].astype(str)\n",
    "    tmp_df[\"formatted\"] = \"\\t\" + \":\" + tmp_df[\"site\"] + \"\\t\" + tmp_df[\"effect\"]\n",
    "\n",
    "    with open(outfile, \"w\") as f:\n",
    "        # Write header lines\n",
    "        f.write(f\"attribute: {name}\\n\")\n",
    "        f.write(\"match mode: any\\n\")\n",
    "        f.write(\"recipient: residues\\n\")\n",
    "\n",
    "    # Append the tab separated dataframe to the file without quotes and with an escape character\n",
    "    tmp_df[\"formatted\"].to_csv(outfile, sep=\"\\t\", index=False, header=False, mode=\"a\")\n",
    "    subprocess.run([\"sed\", \"-i\", 's/\"//g', outfile], check=True)\n",
    "\n",
    "\n",
    "# Call function above\n",
    "aggregate_entry_mean(snakemake.input.entry_df, \"entry\", snakemake.output.chimera_entry_df)\n"
   ]
  }
 ],
 "metadata": {
  "language_info": {
   "name": "python"
  }
 },
 "nbformat": 4,
 "nbformat_minor": 2
}
