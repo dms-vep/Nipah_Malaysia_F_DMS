{
 "cells": [
  {
   "cell_type": "markdown",
   "metadata": {},
   "source": [
    "### Escape logo plots\n",
    "Read in antibody escape file, identify top escape mutations by region, and plot escape logo plotss for these regions."
   ]
  },
  {
   "cell_type": "code",
   "execution_count": null,
   "metadata": {},
   "outputs": [],
   "source": [
    "import pandas as pd\n",
    "\n",
    "import altair as alt\n",
    "\n",
    "import numpy as np\n",
    "\n",
    "import matplotlib\n",
    "\n",
    "matplotlib.rcParams[\"svg.fonttype\"] = \"none\"\n",
    "\n",
    "import dmslogo\n",
    "\n",
    "from dmslogo.colorschemes import CBPALETTE\n",
    "\n",
    "from dmslogo.colorschemes import ValueToColorMap\n",
    "\n",
    "_ = alt.data_transformers.disable_max_rows()\n"
   ]
  },
  {
   "cell_type": "code",
   "execution_count": null,
   "metadata": {},
   "outputs": [],
   "source": [
    "# if running manually in a jupyter notebook instead of snakemake\n",
    "results_df = pd.read_csv(\n",
    "    \"../../results/filtered_data/antibody_escape/combined/escape_minimum_mutation_distance.csv\"\n",
    ")\n",
    "display(results_df)\n",
    "MAX_ESCAPE_FRAC = 0.5\n",
    "SUM_ESCAPE_FRAC = 0.75"
   ]
  },
  {
   "cell_type": "code",
   "execution_count": null,
   "metadata": {},
   "outputs": [],
   "source": [
    "#results_df = results_df.copy()\n",
    "\n",
    "grouped_max_site = (\n",
    "    results_df.groupby([\"antibody\", \"site\"])\n",
    "    .agg(\n",
    "        max_escape_site=(\"escape_mean\", \"max\"),\n",
    "    )\n",
    "    .reset_index()\n",
    ")\n",
    "grouped_max_total = (\n",
    "    grouped_max_site.groupby([\"antibody\"])\n",
    "    .agg(max_escape_antibody=(\"max_escape_site\", \"max\"))\n",
    "    .reset_index()\n",
    ")\n",
    "merged_df = pd.merge(results_df, grouped_max_site, on=[\"antibody\", \"site\"], how=\"left\")\n",
    "merged_df = pd.merge(merged_df, grouped_max_total, on=[\"antibody\"], how=\"left\")\n",
    "display(merged_df.head(5))"
   ]
  },
  {
   "cell_type": "code",
   "execution_count": null,
   "metadata": {},
   "outputs": [],
   "source": [
    "grouped_sum = (\n",
    "    results_df.groupby([\"antibody\", \"site\"])\n",
    "    .agg(sum_escape_site=(\"escape_mean\", \"sum\"))\n",
    "    .reset_index()\n",
    ")\n",
    "grouped_sum_max = (\n",
    "    grouped_sum.groupby([\"antibody\"])\n",
    "    .agg(sum_escape_antibody=(\"sum_escape_site\", \"max\"))\n",
    "    .reset_index()\n",
    ")\n",
    "\n",
    "# display(grouped_sum_max)\n",
    "merged_df = pd.merge(merged_df, grouped_sum, on=[\"antibody\", \"site\"], how=\"left\")\n",
    "merged_df = pd.merge(merged_df, grouped_sum_max, on=[\"antibody\"], how=\"left\")\n",
    "display(merged_df.head(5))\n"
   ]
  },
  {
   "cell_type": "code",
   "execution_count": null,
   "metadata": {},
   "outputs": [],
   "source": [
    "merged_df = merged_df.assign(\n",
    "    retain=lambda x: ((x[\"max_escape_site\"] >= (x[\"max_escape_antibody\"] * MAX_ESCAPE_FRAC))\n",
    "    | (x[\"sum_escape_site\"] >= (x[\"sum_escape_antibody\"] * SUM_ESCAPE_FRAC))) & (x[\"escape_mean\"] > (x['max_escape_antibody'] * 0.1))\n",
    ")\n",
    "\n",
    "display(merged_df.query('retain and antibody == \"1F2\"'))\n",
    "\n",
    "sites_list = merged_df.query('retain').groupby('antibody')['site'].unique()\n",
    "display(sites_list['12B2'].tolist())"
   ]
  },
  {
   "cell_type": "code",
   "execution_count": null,
   "metadata": {},
   "outputs": [],
   "source": [
    "merged_df[\"wildtype_site\"] = merged_df[\"wildtype\"].astype(str) + merged_df[\n",
    "    \"site\"\n",
    "].astype(str)\n",
    "# Find colors based on effect\n",
    "merged_df[\"clip\"] = np.clip(merged_df['effect'], -2, 0)\n",
    "display(merged_df.head(5))\n",
    "# Create a ValueToColorMap for the effect values\n",
    "map1 = ValueToColorMap(\n",
    "    minvalue=-2.5, maxvalue=0, cmap=\"Greens\"\n",
    ")\n",
    "\n",
    "merged_df[\"color\"] = merged_df[\"clip\"].map(map1.val_to_color)\n",
    "\n",
    "display(merged_df.head(5))\n",
    "\n",
    "merged_df.query('retain').to_csv('../../results/for_website/top_antibody_escape_min_mutants.csv', index=False)"
   ]
  },
  {
   "cell_type": "code",
   "execution_count": null,
   "metadata": {},
   "outputs": [],
   "source": [
    "def generate_facet_logo_plot(df, output_file_name=None):\n",
    "    \"\"\"Generate logo plot and save as a file.\"\"\"\n",
    "    draw_logo_kwargs = {\n",
    "        \"letter_col\": \"mutant\",\n",
    "        \"color_col\": \"color\",\n",
    "        \"xtick_col\": \"wildtype_site\",\n",
    "        \"letter_height_col\": \"escape_mean\",\n",
    "        \"xlabel\": \"\",\n",
    "        \"clip_negative_heights\": True,\n",
    "    }\n",
    "    fig, ax = dmslogo.facet_plot(\n",
    "        data=df,\n",
    "        x_col=\"site\",\n",
    "        gridrow_col=\"antibody\",\n",
    "        share_ylim_across_rows=False,\n",
    "        show_col=None,\n",
    "        draw_logo_kwargs=draw_logo_kwargs,\n",
    "    )\n",
    "    \n",
    "    fig.savefig(output_file_name, bbox_inches=\"tight\", format=\"svg\")\n",
    "\n"
   ]
  },
  {
   "cell_type": "code",
   "execution_count": null,
   "metadata": {},
   "outputs": [],
   "source": [
    "for antibody in merged_df['antibody'].unique().tolist():\n",
    "    antibody_df = merged_df.query('antibody == @antibody and retain')\n",
    "    generate_facet_logo_plot(antibody_df, f'../../logo_{antibody}.svg')\n",
    "\n",
    "    one_mutant_df = antibody_df.query('min_mutations == 1')\n",
    "    generate_facet_logo_plot(one_mutant_df, f\"../../logo_{antibody}_one_mutant.svg\")"
   ]
  },
  {
   "cell_type": "code",
   "execution_count": null,
   "metadata": {},
   "outputs": [],
   "source": []
  }
 ],
 "metadata": {
  "kernelspec": {
   "display_name": "brendan",
   "language": "python",
   "name": "python3"
  },
  "language_info": {
   "codemirror_mode": {
    "name": "ipython",
    "version": 3
   },
   "file_extension": ".py",
   "mimetype": "text/x-python",
   "name": "python",
   "nbconvert_exporter": "python",
   "pygments_lexer": "ipython3",
   "version": "3.12.8"
  }
 },
 "nbformat": 4,
 "nbformat_minor": 2
}
