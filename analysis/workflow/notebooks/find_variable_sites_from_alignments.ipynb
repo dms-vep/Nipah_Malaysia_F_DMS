{
 "cells": [
  {
   "cell_type": "markdown",
   "metadata": {},
   "source": [
    "### Find variable sites from alignments\n",
    "Given an alignment with a reference sequence as the first sequence, find all variable sites and return a list of these sites."
   ]
  },
  {
   "cell_type": "code",
   "execution_count": null,
   "metadata": {},
   "outputs": [],
   "source": [
    "from Bio import SeqIO\n",
    "import pandas as pd\n",
    "from collections import Counter"
   ]
  },
  {
   "cell_type": "code",
   "execution_count": null,
   "metadata": {},
   "outputs": [],
   "source": [
    "# Function to analyze variable sites in a FASTA alignment file\n",
    "def analyze_variable_sites_detailed(fasta_file, min_differences=2):\n",
    "    \"\"\"\n",
    "    Analyze variable sites in a multiple sequence alignment FASTA file.\n",
    "    The first sequence in the FASTA file is treated as the reference (wildtype).\n",
    "    Returns a DataFrame with detailed mutation information for sites with at least\n",
    "    `min_differences` mutations.\n",
    "    \"\"\"\n",
    "    sequences = list(SeqIO.parse(fasta_file, \"fasta\"))\n",
    "    ref_seq = str(sequences[0].seq)\n",
    "    seq_length = len(ref_seq)\n",
    "\n",
    "    results = []\n",
    "\n",
    "    for pos in range(seq_length):\n",
    "        ref_aa = ref_seq[pos]\n",
    "        mutant_aas = []\n",
    "\n",
    "        for seq in sequences[1:]:\n",
    "            current_aa = str(seq.seq)[pos]\n",
    "            if current_aa != ref_aa:\n",
    "                mutant_aas.append(current_aa)\n",
    "\n",
    "        # Count frequency of each mutant amino acid at this position\n",
    "        if mutant_aas:  # If there are any mutations at this site\n",
    "            aa_counts = Counter(mutant_aas)\n",
    "\n",
    "            # Add a row for each mutation type that meets the threshold\n",
    "            for mutant_aa, count in aa_counts.items():\n",
    "                if count >= min_differences:\n",
    "                    results.append(\n",
    "                        {\n",
    "                            \"site\": pos + 1,  # 1-based positioning\n",
    "                            \"wildtype\": ref_aa,\n",
    "                            \"mutant\": mutant_aa,\n",
    "                            \"mutation_count\": count,\n",
    "                            \"mutation_type\": f\"{ref_aa}->{mutant_aa}\",\n",
    "                        }\n",
    "                    )\n",
    "\n",
    "    # Create DataFrame and sort by site, then by mutation count (descending)\n",
    "    df = pd.DataFrame(results)\n",
    "    if not df.empty:\n",
    "        df = df.sort_values([\"site\", \"mutation_count\"], ascending=[True, False])\n",
    "        df = df.reset_index(drop=True)\n",
    "\n",
    "    return df\n",
    "\n",
    "\n",
    "# Usage\n",
    "hendra = analyze_variable_sites_detailed(snakemake.input.hendra_F_alignment)\n",
    "display(hendra)\n",
    "hendra.to_csv(snakemake.output.hendra_F_variable_sites, index=False)\n",
    "\n",
    "nipah = analyze_variable_sites_detailed(snakemake.input.nipah_F_alignment)\n",
    "display(nipah)\n",
    "nipah.to_csv(snakemake.output.nipah_F_variable_sites, index=False)\n"
   ]
  }
 ],
 "metadata": {
  "kernelspec": {
   "display_name": "brendan",
   "language": "python",
   "name": "python3"
  },
  "language_info": {
   "codemirror_mode": {
    "name": "ipython",
    "version": 3
   },
   "file_extension": ".py",
   "mimetype": "text/x-python",
   "name": "python",
   "nbconvert_exporter": "python",
   "pygments_lexer": "ipython3",
   "version": "3.12.8"
  }
 },
 "nbformat": 4,
 "nbformat_minor": 2
}
