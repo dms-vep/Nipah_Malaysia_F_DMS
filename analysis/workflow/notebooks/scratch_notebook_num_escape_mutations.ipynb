{
 "cells": [
  {
   "cell_type": "code",
   "execution_count": null,
   "id": "4bb5f25f",
   "metadata": {},
   "outputs": [],
   "source": [
    "import re\n",
    "import altair as alt\n",
    "import numpy as np\n",
    "import pandas as pd\n",
    "import scipy.stats\n",
    "import httpimport\n",
    "\n",
    "# allow more rows for Altair\n",
    "_ = alt.data_transformers.disable_max_rows()\n"
   ]
  },
  {
   "cell_type": "code",
   "execution_count": null,
   "id": "485831df",
   "metadata": {},
   "outputs": [],
   "source": [
    "# Import custom altair theme from remote github using httpimport module\n",
    "def import_theme_new():\n",
    "    with httpimport.github_repo(\"bblarsen-sci\", \"altair_themes\", \"main\"):\n",
    "        import main_theme\n",
    "\n",
    "        @alt.theme.register(\"custom_theme\", enable=True)\n",
    "        def custom_theme():\n",
    "            return main_theme.main_theme()\n",
    "\n",
    "\n",
    "import_theme_new()\n"
   ]
  },
  {
   "cell_type": "code",
   "execution_count": null,
   "id": "49885115",
   "metadata": {},
   "outputs": [],
   "source": [
    "antibody_order = [\"12B2\", \"2D3\", \"4H3\", \"1A9\", \"1F2\", \"2B12\"]\n",
    "\n",
    "escape_df = pd.read_csv(\n",
    "    \"../../results/filtered_data/antibody_escape/combined/escape_minimum_mutation_distance.csv\"\n",
    ")\n",
    "\n",
    "display(escape_df)"
   ]
  },
  {
   "cell_type": "code",
   "execution_count": null,
   "id": "43498645",
   "metadata": {},
   "outputs": [],
   "source": [
    "test = escape_df.groupby('antibody')['escape_mean'].max().reset_index(name='max_escape')\n",
    "escape_df = escape_df.assign(max_escape=escape_df['antibody'].map(dict(zip(test['antibody'], test['max_escape']))))\n",
    "\n",
    "#escape_df = escape_df.assign(above_half_max=lambda x: x['escape_mean'] >= (x['max_escape'] / 4))\n",
    "escape_df = escape_df.assign(\n",
    "    above_half_max=lambda x: x[\"escape_mean\"] >= 0.5\n",
    ")\n",
    "\n",
    "\n",
    "\n",
    "escape_df = escape_df.assign(above_min_mut_and_effect=lambda x: (x['min_mutations'] == 1) & x['above_half_max'])\n",
    "display(escape_df.query('above_half_max == True'))\n",
    "escape_threshold = escape_df.query('above_half_max == True').groupby('antibody').size().reset_index(name='number')\n",
    "escape_and_effect_threshold = escape_df.query('above_min_mut_and_effect == True').groupby('antibody').size().reset_index(name='number')\n",
    "display(escape_and_effect_threshold)"
   ]
  },
  {
   "cell_type": "code",
   "execution_count": null,
   "id": "7e838101",
   "metadata": {},
   "outputs": [],
   "source": [
    "chart1 = (\n",
    "    alt.Chart(escape_threshold)\n",
    "    .mark_point(filled=True, opacity=1, size=100, color=\"indianred\")\n",
    "    .encode(x=alt.X(\"antibody:N\", sort=antibody_order), y=\"number:Q\")\n",
    ")\n",
    "\n",
    "chart3 = (\n",
    "    alt.Chart(escape_and_effect_threshold)\n",
    "    .mark_point(filled=True, opacity=1, size=100, color=\"steelblue\")\n",
    "    .encode(x=alt.X(\"antibody:N\", sort=antibody_order), y=\"number:Q\")\n",
    ")\n",
    "#chart3.display()\n",
    "combined = alt.layer(chart1, chart3).resolve_scale(y='shared')\n",
    "combined.display()\n",
    "combined.save('../../num_escape_mutations.svg')\n",
    "combined.save('../../num_escape_mutations.png', ppi=300)"
   ]
  },
  {
   "cell_type": "code",
   "execution_count": null,
   "id": "2fb02b6f",
   "metadata": {},
   "outputs": [],
   "source": []
  }
 ],
 "metadata": {
  "kernelspec": {
   "display_name": "brendan",
   "language": "python",
   "name": "python3"
  },
  "language_info": {
   "codemirror_mode": {
    "name": "ipython",
    "version": 3
   },
   "file_extension": ".py",
   "mimetype": "text/x-python",
   "name": "python",
   "nbconvert_exporter": "python",
   "pygments_lexer": "ipython3",
   "version": "3.12.8"
  }
 },
 "nbformat": 4,
 "nbformat_minor": 5
}
