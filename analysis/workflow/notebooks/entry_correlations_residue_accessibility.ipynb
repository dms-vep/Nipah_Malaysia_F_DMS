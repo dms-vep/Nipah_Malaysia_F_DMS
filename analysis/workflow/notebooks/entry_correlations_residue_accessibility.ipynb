{
 "cells": [
  {
   "cell_type": "markdown",
   "metadata": {},
   "source": [
    "### Entry correlations residue accessibility\n",
    "Calculate residue accessibility from PDB and compare to entry scores from DMS"
   ]
  },
  {
   "cell_type": "code",
   "execution_count": 1,
   "metadata": {},
   "outputs": [],
   "source": [
    "import pandas as pd\n",
    "import altair as alt\n",
    "import httpimport\n",
    "\n",
    "import numpy as np\n",
    "import scipy.stats\n",
    "\n",
    "from Bio.PDB import PDBParser\n",
    "from Bio.PDB.SASA import ShrakeRupley\n",
    "\n",
    "_ = alt.data_transformers.disable_max_rows()"
   ]
  },
  {
   "cell_type": "code",
   "execution_count": 2,
   "metadata": {},
   "outputs": [],
   "source": [
    "# Import custom altair theme from remote github using httpimport module\n",
    "def import_theme_new():\n",
    "    with httpimport.github_repo(\"bblarsen-sci\", \"altair_themes\", \"main\"):\n",
    "        import main_theme\n",
    "\n",
    "        @alt.theme.register(\"custom_theme\", enable=True)\n",
    "        def custom_theme():\n",
    "            return main_theme.main_theme()\n",
    "\n",
    "\n",
    "import_theme_new()"
   ]
  },
  {
   "cell_type": "markdown",
   "metadata": {},
   "source": [
    "### Import Nipah F structure PDB and parse it to get residue accessibility\n",
    "https://biopython.org/docs/dev/api/Bio.PDB.SASA.html"
   ]
  },
  {
   "cell_type": "code",
   "execution_count": null,
   "metadata": {},
   "outputs": [],
   "source": [
    "p = PDBParser(QUIET=1)\n",
    "structure = p.get_structure(\"5EVM\", snakemake.input.pdb)\n",
    "sr = ShrakeRupley()\n",
    "sr.compute(structure, level=\"R\")"
   ]
  },
  {
   "cell_type": "code",
   "execution_count": null,
   "metadata": {},
   "outputs": [],
   "source": [
    "# get sites and accessibility for each residue in all three chains\n",
    "df = pd.DataFrame(\n",
    "    [\n",
    "        {\n",
    "            \"site\": i,\n",
    "            \"accessibility_A\": round(structure[0][\"A\"][i].sasa, 2)\n",
    "            if i in structure[0][\"A\"]\n",
    "            else np.nan,\n",
    "            \"accessibility_B\": round(structure[0][\"B\"][i].sasa, 2)\n",
    "            if i in structure[0][\"B\"]\n",
    "            else np.nan,\n",
    "            \"accessibility_C\": round(structure[0][\"C\"][i].sasa, 2)\n",
    "            if i in structure[0][\"C\"]\n",
    "            else np.nan,\n",
    "        }\n",
    "        for i in range(29, 482)\n",
    "    ]\n",
    ")\n",
    "\n",
    "# calculate mean accessibility across chains\n",
    "df[\"mean_accessibility\"] = (\n",
    "    df[[\"accessibility_A\", \"accessibility_B\", \"accessibility_C\"]].mean(axis=1).round(2)\n",
    ")\n",
    "\n",
    "# save accessibility data to csv\n",
    "df.to_csv(snakemake.output.accessibility_df, index=False)"
   ]
  },
  {
   "cell_type": "markdown",
   "metadata": {},
   "source": [
    "### Read in entry scores from DMS and merge with residue accessibility"
   ]
  },
  {
   "cell_type": "code",
   "execution_count": null,
   "metadata": {},
   "outputs": [],
   "source": [
    "# read in mean entry data\n",
    "entry_df = pd.read_csv(snakemake.input.entry_df)\n",
    "\n",
    "# merge with accessibility data\n",
    "merged_df = pd.merge(df, entry_df, on=\"site\", how=\"left\")\n",
    "\n",
    "# Assign amino acid type\n",
    "def assign_aa_type(site_num):\n",
    "    if site_num in [\"D\", \"E\"]:\n",
    "        return \"Negative\"\n",
    "    elif site_num in [\"K\", \"R\", \"H\"]:\n",
    "        return \"Positive\"\n",
    "    elif site_num in [\"Q\", \"N\", \"S\", \"T\"]:\n",
    "        return \"Hydrophilic\"\n",
    "    elif site_num in [\"A\", \"I\", \"L\", \"M\", \"V\"]:\n",
    "        return \"Hydrophobic\"\n",
    "    elif site_num in [\"Y\", \"W\", \"F\"]:\n",
    "        return \"Aromatic\"\n",
    "    elif site_num in [\"C\", \"G\", \"P\"]:\n",
    "        return \"Special\"\n",
    "    else:\n",
    "        return \"Other\"\n",
    "\n",
    "merged_df[\"wildtype_type\"] = merged_df[\"wildtype\"].apply(assign_aa_type)"
   ]
  },
  {
   "cell_type": "code",
   "execution_count": null,
   "metadata": {},
   "outputs": [],
   "source": [
    "##### calculate R value:\n",
    "for i in merged_df[\"wildtype_type\"].unique():\n",
    "    tmp_df = merged_df[merged_df[\"wildtype_type\"] == i]\n",
    "    slope, intercept, r_value, p_value, std_err = scipy.stats.linregress(\n",
    "        tmp_df[\"mean_accessibility\"], tmp_df[\"effect\"]\n",
    "    )\n",
    "    r_value = float(r_value)\n",
    "    print(f\"Residue type: {i},  r_value: {r_value:.2f}, p_value: {p_value:.2e}\")\n",
    "\n",
    "slope, intercept, r_value, p_value, std_err = scipy.stats.linregress(\n",
    "    merged_df[\"mean_accessibility\"], merged_df[\"effect\"]\n",
    ")\n",
    "r_value = float(r_value)\n",
    "print(f\"Overall r_value: {r_value:.2f}, p_value: {p_value:.2e}\")"
   ]
  },
  {
   "cell_type": "code",
   "execution_count": null,
   "metadata": {},
   "outputs": [],
   "source": [
    "# plot accessibility of chain A vs chain B, colored by amino acid type\n",
    "accessibility_chart = (\n",
    "    alt.Chart(merged_df)\n",
    "    .mark_circle(size=60)\n",
    "    .encode(\n",
    "        x=alt.X(\"accessibility_A\", title=\"A Accessibility (Å²)\"),\n",
    "        y=alt.Y(\"accessibility_B\", title=\"B Accessibility (Å²)\"),\n",
    "        color=alt.Color(\"wildtype_type\"),\n",
    "        tooltip=[\"site\", \"wildtype\", \"accessibility_B\", \"effect\"],\n",
    "    )\n",
    ")\n",
    "display(accessibility_chart)"
   ]
  },
  {
   "cell_type": "code",
   "execution_count": null,
   "metadata": {},
   "outputs": [],
   "source": [
    "# plot mean accessibility vs effect, with r value\n",
    "chart = (\n",
    "    alt.Chart(merged_df)\n",
    "    .mark_circle(size=50, opacity=1, stroke=\"black\", strokeWidth=0.75)\n",
    "    .encode(\n",
    "        x=alt.X(\"mean_accessibility\", title=\"Surface Accessibility (Å²)\"),\n",
    "        y=alt.Y(\"effect\", title=\"Mean Entry of Mutations at Site\"),\n",
    "        tooltip=[\"site\", \"mean_accessibility\", \"effect\", \"wildtype\"],\n",
    "    )\n",
    "    .properties(width=200, height=200)\n",
    ")\n",
    "text = (\n",
    "    alt.Chart(\n",
    "        {\n",
    "            \"values\": [\n",
    "                {\n",
    "                    \"x\": 0,\n",
    "                    \"y\": 0,\n",
    "                    \"text\": f\"r = {r_value:.2f}\",\n",
    "                }\n",
    "            ]\n",
    "        }\n",
    "    )\n",
    "    .mark_text(\n",
    "        align=\"left\",\n",
    "        baseline=\"top\",\n",
    "        dx=10,\n",
    "        dy=-15,\n",
    "    )\n",
    "    .encode(x=alt.X(\"x:Q\"), y=alt.Y(\"y:Q\"), text=\"text:N\")\n",
    ")\n",
    "\n",
    "final_chart = chart + text\n",
    "display(final_chart)"
   ]
  },
  {
   "cell_type": "code",
   "execution_count": null,
   "metadata": {},
   "outputs": [],
   "source": [
    "# save\n",
    "final_chart.save(snakemake.output.access_vs_effect_all_png, ppi=300)\n",
    "final_chart.save(snakemake.output.access_vs_effect_all_svg)"
   ]
  },
  {
   "cell_type": "code",
   "execution_count": null,
   "metadata": {},
   "outputs": [],
   "source": [
    "# plot mean accessibility vs effect, colored by amino acid type, faceted\n",
    "chart = (\n",
    "    alt.Chart(merged_df)\n",
    "    .mark_circle(size=50, opacity=1, stroke=\"black\", strokeWidth=0.75)\n",
    "    .encode(\n",
    "        x=alt.X(\n",
    "            \"mean_accessibility\",\n",
    "            title=\"Surface Accessibility (Å²)\",\n",
    "        ),\n",
    "        y=alt.Y(\"effect\", title=\"Mean Entry Score at Site\"),\n",
    "        color=alt.Color(\"wildtype_type\", legend=None),\n",
    "        facet=alt.Facet(\"wildtype_type\", title=None, columns=3, bounds=\"full\"),\n",
    "        tooltip=[\"site\", \"mean_accessibility\", \"effect\", \"wildtype\"],\n",
    "    )\n",
    ").properties(\n",
    "    width=200,\n",
    "    height=200,\n",
    ")\n",
    "display(chart)"
   ]
  },
  {
   "cell_type": "code",
   "execution_count": null,
   "metadata": {},
   "outputs": [],
   "source": [
    "# save\n",
    "chart.save(snakemake.output.access_vs_effect_residue_type_png, ppi=300)\n",
    "chart.save(snakemake.output.access_vs_effect_residue_type_svg)"
   ]
  }
 ],
 "metadata": {
  "kernelspec": {
   "display_name": "brendan",
   "language": "python",
   "name": "python3"
  },
  "language_info": {
   "codemirror_mode": {
    "name": "ipython",
    "version": 3
   },
   "file_extension": ".py",
   "mimetype": "text/x-python",
   "name": "python",
   "nbconvert_exporter": "python",
   "pygments_lexer": "ipython3",
   "version": "3.12.8"
  }
 },
 "nbformat": 4,
 "nbformat_minor": 2
}
