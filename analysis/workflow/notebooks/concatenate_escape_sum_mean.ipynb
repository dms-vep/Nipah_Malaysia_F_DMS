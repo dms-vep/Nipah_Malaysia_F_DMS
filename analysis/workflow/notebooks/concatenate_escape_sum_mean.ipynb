{
 "cells": [
  {
   "cell_type": "markdown",
   "metadata": {},
   "source": [
    "### Concatenate Escape\n",
    "This notebook reads in the different filtered escape files and concatenates them into a single file."
   ]
  },
  {
   "cell_type": "code",
   "execution_count": null,
   "metadata": {},
   "outputs": [],
   "source": [
    "import pandas as pd\n",
    "import os"
   ]
  },
  {
   "cell_type": "code",
   "execution_count": null,
   "metadata": {},
   "outputs": [],
   "source": [
    "# Create empty list to store dataframes\n",
    "dfs = []\n",
    "\n",
    "# Loop through each input file and read it\n",
    "for file_path in snakemake.input.escape_files_sum:\n",
    "    # Read the CSV\n",
    "    df = pd.read_csv(file_path)\n",
    "\n",
    "    # Add a column indicating which antibody this data is from\n",
    "    antibody_name = os.path.basename(file_path).split(\"_escape\")[0]\n",
    "    print(antibody_name)\n",
    "    df[\"antibody\"] = antibody_name\n",
    "\n",
    "    # Append to list of dataframes\n",
    "    dfs.append(df)\n",
    "\n",
    "# Concatenate all dataframes\n",
    "combined_df = pd.concat(dfs, ignore_index=True)\n",
    "\n",
    "# Save the combined dataframe\n",
    "combined_df.to_csv(snakemake.output.combined_escape_sum, index=False)"
   ]
  },
  {
   "cell_type": "code",
   "execution_count": null,
   "metadata": {},
   "outputs": [],
   "source": [
    "# Create empty list to store dataframes\n",
    "dfs = []\n",
    "\n",
    "# Loop through each input file and read it\n",
    "for file_path in snakemake.input.escape_files_mean:\n",
    "    # Read the CSV\n",
    "    df = pd.read_csv(file_path)\n",
    "\n",
    "    # Add a column indicating which antibody this data is from\n",
    "    antibody_name = os.path.basename(file_path).split(\"_escape\")[0]\n",
    "    print(antibody_name)\n",
    "    df[\"antibody\"] = antibody_name\n",
    "\n",
    "    # Append to list of dataframes\n",
    "    dfs.append(df)\n",
    "\n",
    "# Concatenate all dataframes\n",
    "combined_df = pd.concat(dfs, ignore_index=True)\n",
    "\n",
    "# Save the combined dataframe\n",
    "combined_df.to_csv(snakemake.output.combined_escape_mean, index=False)"
   ]
  }
 ],
 "metadata": {
  "language_info": {
   "name": "python"
  }
 },
 "nbformat": 4,
 "nbformat_minor": 2
}
