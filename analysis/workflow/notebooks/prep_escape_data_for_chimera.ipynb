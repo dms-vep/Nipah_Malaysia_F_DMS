{
 "cells": [
  {
   "cell_type": "markdown",
   "metadata": {},
   "source": [
    "### Prep escape data for chimera\n",
    "Reads in the filtered csv of summed escape effects of mutations at each site and format into a .defattr file for chimera visualization of mutational effects on structure."
   ]
  },
  {
   "cell_type": "code",
   "execution_count": null,
   "metadata": {},
   "outputs": [],
   "source": [
    "import pandas as pd\n",
    "import csv\n",
    "import subprocess"
   ]
  },
  {
   "cell_type": "code",
   "execution_count": null,
   "metadata": {},
   "outputs": [],
   "source": [
    "# prepare data in chimera format\n",
    "def aggregate_escape(infile, name, outfile):\n",
    "    df = pd.read_csv(infile)\n",
    "    df = df.round(2)\n",
    "\n",
    "    # Modify the dataframe to prepend a tab character and format as strings\n",
    "    df[\"site\"] = df[\"site\"].astype(str)\n",
    "    df[\"sum_escape\"] = df[\"sum_escape\"].astype(str)\n",
    "    df[\"formatted\"] = \"\\t\" + \":\" + df[\"site\"] + \"\\t\" + df[\"sum_escape\"]\n",
    "\n",
    "    with open(outfile, \"w\") as f:\n",
    "        # Write header lines\n",
    "        f.write(f\"attribute: {name}\\n\")\n",
    "        f.write(\"match mode: any\\n\")\n",
    "        f.write(\"recipient: residues\\n\")\n",
    "\n",
    "    # Append the tab separated dataframe to the file without quotes and with an escape character\n",
    "    df[\"formatted\"].to_csv(outfile, sep=\"\\t\", index=False, header=False, mode=\"a\")\n",
    "    subprocess.run([\"sed\", \"-i\", 's/\"//g', outfile], check=True)\n",
    "\n",
    "\n",
    "# Call function above\n",
    "aggregate_escape(snakemake.input.escape_df, \"sum_escape\", snakemake.output.chimera_escape_df)"
   ]
  }
 ],
 "metadata": {
  "language_info": {
   "name": "python"
  }
 },
 "nbformat": 4,
 "nbformat_minor": 2
}
